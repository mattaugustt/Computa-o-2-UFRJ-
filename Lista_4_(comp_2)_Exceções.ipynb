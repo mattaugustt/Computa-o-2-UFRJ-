{
  "nbformat": 4,
  "nbformat_minor": 0,
  "metadata": {
    "colab": {
      "provenance": [],
      "mount_file_id": "1tfq9jE0OBENX7bgxqbvdzcvVGpA519fu",
      "authorship_tag": "ABX9TyPe7KCHGDFGUEqhcKTIa/wx",
      "include_colab_link": true
    },
    "kernelspec": {
      "name": "python3",
      "display_name": "Python 3"
    },
    "language_info": {
      "name": "python"
    }
  },
  "cells": [
    {
      "cell_type": "markdown",
      "metadata": {
        "id": "view-in-github",
        "colab_type": "text"
      },
      "source": [
        "<a href=\"https://colab.research.google.com/github/mattaugustt/Computa-o-2-UFRJ-/blob/main/Lista_4_(comp_2)_Exce%C3%A7%C3%B5es.ipynb\" target=\"_parent\"><img src=\"https://colab.research.google.com/assets/colab-badge.svg\" alt=\"Open In Colab\"/></a>"
      ]
    },
    {
      "cell_type": "markdown",
      "source": [
        "##Nome: <br>\n",
        "Matheus Augusto de Souza <br>\n",
        "<br>\n",
        "##DRE: <br>\n",
        "118.164.136"
      ],
      "metadata": {
        "id": "oHPL2_5NqHAG"
      }
    },
    {
      "cell_type": "markdown",
      "source": [
        "##Exercício 1: <br>\n",
        "\n",
        "Faça um programa que receba o nome de um arquivo texto, por exemplo: __poesia.txt__. Seu programa deve contar quantas linhas existem no arquivo e também quantas palavras com mais de 5 caracteres. __Cuidado__ para não contabilizar o __\\n__ ao final de cada linha. Utilize o método __strip()__ ou __rstrip()__ para lidar com isso. <br>\n",
        "<br>\n",
        "O seu programa deve escrever nesse mesmo arquivo, duas linhas abaixo da sua última linha original, uma mensagem no formato: __‘‘Seu arquivo possui x linhas e y palavras com mais de 5 caracteres’’__. Substitua __x__ e __y__ pelas quantidades que seu programa descobriu. <br>\n",
        "<br>\n",
        "Utilize __try/except__ para testar se o arquivo informado pelo usuário existe. Caso não exista avise ao usuário e permita que ele digite novamente o nome do arquivo. O usuário pode tentar quantas vezes quiser até que ele digite o nome corretamente."
      ],
      "metadata": {
        "id": "eLXslnjBqWiC"
      }
    },
    {
      "cell_type": "code",
      "execution_count": null,
      "metadata": {
        "id": "t0hxmbJsPnqX"
      },
      "outputs": [],
      "source": [
        "def contador(arq):\n",
        "  '''file -> int, int'''\n",
        "  try:\n",
        "    x = open(arq, 'r+')\n",
        "  except NameError:\n",
        "    nome = input('Arquivo inexistente, repita o nome do arquivo no formato \"nome.txt\": \\n')\n",
        "    x = open(nome, 'r+')\n",
        "\n",
        "  num_linhas = len(x.readlines())\n",
        "  num_palavras = 0\n",
        "\n",
        "  for linha in x.readlines():\n",
        "    linha_limpa = linha.strip()\n",
        "    caracteres = 0\n",
        "    for i in range(0, len(linha_limpa)):\n",
        "      if i != ' ':\n",
        "        caracteres += 1\n",
        "        if caracteres > 5:\n",
        "          num_palavras += 1\n",
        "          break\n",
        "        return num_palavras\n",
        "\n",
        "  x.write(f'O arquivo possui {num_linhas} linhas.\\nO arquivo possui {num_palavras} palavras com mais de 5 caracteres.')\n",
        "  x.close()\n",
        "  return (f'O arquivo possui {num_linhas} linhas.\\nO arquivo possui {num_palavras} palavras com mais de 5 caracteres.')"
      ]
    },
    {
      "cell_type": "markdown",
      "source": [
        "##Exercício 2: <br>\n",
        "Crie as classes a seguir para armazenar dados de professores e alunos, e notas dos alunos:  <br><br>\n",
        "obs.: Nesse exercício, considere a expressão A ← B como: A é uma subclasse de B.\n",
        "<br>\n",
        "\n",
        "a) Classe Pessoa <br>\n",
        "\n",
        "• Atributos privados: nome, telefone, endereco, cpf, identidade e idade <br>\n",
        "\n",
        "• Métodos: <br>\n",
        "– Construtor que pode receber todos os atributos OU apenas identidade e cpf. <br>\n",
        "– Getters e Setters"
      ],
      "metadata": {
        "id": "1tm_yh6srkfb"
      }
    },
    {
      "cell_type": "code",
      "source": [
        "class Pessoa():\n",
        "  def __init__(self, nome, telefone, endereco, cpf, identidade, idade):\n",
        "    self.__nome = nome\n",
        "    self.__telefone = telefone\n",
        "    self.__endereco = endereco\n",
        "    self.__cpf = cpf\n",
        "    self.__identidade = identidade\n",
        "    self.__idade = idade\n",
        "\n",
        "    def getNome(self):\n",
        "      return self.__nome\n",
        "\n",
        "    def setNome(self, nome2):\n",
        "      self.__nome = nome2\n",
        "      return\n",
        "\n",
        "    def getTel(self):\n",
        "      return self.__telefone\n",
        "\n",
        "    def setTel(self, tel2):\n",
        "      self.__telefone = tel2\n",
        "      return\n",
        "\n",
        "    def getEndereco(self):\n",
        "      return self.__endereco\n",
        "\n",
        "    def setEndereco(self, novo):\n",
        "      self.__endereco = novo\n",
        "      return\n",
        "\n",
        "    def getCPF(self):\n",
        "      return self.__cpf\n",
        "\n",
        "    def setCPF(self, cpf2):\n",
        "      self.__cpf = cpf2\n",
        "      return\n",
        "\n",
        "    def getIdentidade(self):\n",
        "      return self.__identidade\n",
        "\n",
        "    def setIdentidade(self, id2):\n",
        "      self.__identidade = id2\n",
        "      return\n",
        "\n",
        "    def getIdade(self):\n",
        "      return self.__idade\n",
        "\n",
        "    def setIdade(self, idade2):\n",
        "      self.__idade = idade2\n",
        "      return\n",
        "\n"
      ],
      "metadata": {
        "id": "EHCBu4IzsAmI"
      },
      "execution_count": null,
      "outputs": []
    },
    {
      "cell_type": "markdown",
      "source": [
        "b) Classe Notas <br>\n",
        "\n",
        "• Atributos privados: nota1, nota2, nota3 <br>\n",
        "\n",
        "• Métodos: <br>\n",
        "– Construtor <br>\n",
        "– Getters e Setters <br>\n",
        "– calculaMedia"
      ],
      "metadata": {
        "id": "LYkha1XlsBDQ"
      }
    },
    {
      "cell_type": "code",
      "source": [
        "class Notas():\n",
        "  def __init__(self, nota1, nota2, nota3):\n",
        "    self.__nota1 = nota1\n",
        "    self.__nota2 = nota2\n",
        "    self.__nota3 = nota3\n",
        "\n",
        "  def getNota1(self):\n",
        "    return self.__nota1\n",
        "\n",
        "  def getNota2(self):\n",
        "    return self.__nota2\n",
        "\n",
        "  def getNota3(self):\n",
        "    return self.__nota3\n",
        "\n",
        "  def setNota1(self, nova):\n",
        "    self.__nota1 = nova\n",
        "    return\n",
        "\n",
        "  def setNota2(self, nova):\n",
        "    self.__nota2 = nova\n",
        "    return\n",
        "\n",
        "  def setNota3(self, nova):\n",
        "    self.__nota3 = nova\n",
        "    return\n",
        "\n",
        "  def calculaMedia(self):\n",
        "    media = (self.__nota1 + self.__nota2 + self.__nota3) / 3\n",
        "    return media"
      ],
      "metadata": {
        "id": "1uZRGUccueoI"
      },
      "execution_count": null,
      "outputs": []
    },
    {
      "cell_type": "markdown",
      "source": [
        "c) Classe Aluno ← Pessoa <br>\n",
        "\n",
        "• Atributos: matricula, notaAluno (do tipo Notas criado acima) <br>\n",
        "\n",
        "• Métodos: <br>\n",
        "– Construtor <br>\n",
        "– Getters e Setters <br>\n",
        "– visualizarMedia (que imprime a média e usa o método calcularMedia do atributo notaAluno)"
      ],
      "metadata": {
        "id": "6nfAtRSfsP0m"
      }
    },
    {
      "cell_type": "code",
      "source": [
        "class Aluno(Pessoa):\n",
        "  def __init__(self, nome, telefone, endereco, cpf, identidade, idade, matricula, notaAluno):\n",
        "    Pessoa.__init__(self, nome, telefone, endereco, cpf, identidade, idade)\n",
        "    self.matricula = matricula\n",
        "    self.notaAluno = notaAluno\n",
        "\n",
        "  def getMatricula(self):\n",
        "    return self.matricula\n",
        "\n",
        "  def getNotaAluno(self):\n",
        "    return self.notaAluno\n",
        "\n",
        "  def setMatricula(self, nova):\n",
        "    self.matricula = nova\n",
        "    return\n",
        "\n",
        "  def setNotaAluno(self, nova):\n",
        "    self.notaAluno = nova\n",
        "    return\n",
        "\n",
        "  def visualizarMedia(self):\n",
        "    media = self.notaAluno.calculaMedia(self)\n",
        "    return media"
      ],
      "metadata": {
        "id": "u_Np8sr_sa3n"
      },
      "execution_count": null,
      "outputs": []
    },
    {
      "cell_type": "markdown",
      "source": [
        "d) Classe Professor ← Pessoa <br>\n",
        "\n",
        "• Atributo: salario <br>\n",
        "\n",
        "• Métodos: <br>\n",
        "– Construtor <br>\n",
        "– visualizarSalario"
      ],
      "metadata": {
        "id": "H3GFGcVnsbRD"
      }
    },
    {
      "cell_type": "code",
      "source": [
        "class Professor(Pessoa):\n",
        "  def __init__(self, nome, telefone, endereco, cpf, identidade, idade, salario):\n",
        "    Pessoa.__init__(self, nome, telefone, endereco, cpf, identidade, idade)\n",
        "    self.salario = salario\n",
        "\n",
        "  def visualizarSalario(self):\n",
        "    return self.salario\n"
      ],
      "metadata": {
        "id": "4ADDJaJEsjKn"
      },
      "execution_count": null,
      "outputs": []
    },
    {
      "cell_type": "markdown",
      "source": [
        "e) Classe ProfessorHorista ← Professor <br>\n",
        "\n",
        "• Atributos: horasDeAula, valorHoraAula <br>\n",
        "\n",
        "• Métodos: <br>\n",
        "– Construtor <br>\n",
        "– calcularSalario"
      ],
      "metadata": {
        "id": "ufaphg2WsnJQ"
      }
    },
    {
      "cell_type": "code",
      "source": [
        "class ProfessorHorista(Professor):\n",
        "  def __init__(self, nome, telefone, endereco, cpf, identidade, idade, salario, horasDeAula, valorHoraAula):\n",
        "    Professor.__init__(self, nome, telefone, endereco, cpf, identidade, idade, salario)\n",
        "    self.horasDeAula = horasDeAula\n",
        "    self.valorHoraAula = valorHoraAula\n",
        "\n",
        "  def calcularSalario(self):\n",
        "    self.salario = (self.horasDeAula * self.valorHoraAula)\n",
        "    return"
      ],
      "metadata": {
        "id": "vRJVoRSxsuGy"
      },
      "execution_count": null,
      "outputs": []
    },
    {
      "cell_type": "markdown",
      "source": [
        "f) Classe Controller <br>\n",
        "\n",
        "• Atributo: listaProfessores, listaAlunos"
      ],
      "metadata": {
        "id": "X93u9vuIsxwv"
      }
    },
    {
      "cell_type": "code",
      "source": [
        "class Controller():\n",
        "  def __init__(self, listaProfessores, listaAlunos):\n",
        "    self.listaProfessores = listaProfessores\n",
        "    self.listaAlunos = listaAlunos"
      ],
      "metadata": {
        "id": "DnUxMHbDzdy6"
      },
      "execution_count": null,
      "outputs": []
    },
    {
      "cell_type": "markdown",
      "source": [
        "##Questão 3 da prova:\n",
        "Criar uma classe Professor, com os atributos nome, disciplina e notas_alunos, onde este é um dicionário com as notas dos alunos.\n",
        "O atributo notas_alunos deve ser privado (encapsulado).\n",
        "\n",
        "<br>\n",
        "Métodos: <br>\n",
        "adicionar_nota(self, aluno, nota) <br>\n",
        "para adicionar a nota do aluno ao dicionário. <br>\n",
        "<br>\n",
        "ver_nota(self, aluno) <br>\n",
        "para ver a nota do aluno. <br>\n",
        "<br>\n",
        "criar uma exceção que retorne uma mensagem de informação caso o nome do aluno não esteja no dicionário.\n",
        "\n",
        "\n"
      ],
      "metadata": {
        "id": "8JEw_qM-CqIM"
      }
    },
    {
      "cell_type": "code",
      "source": [
        "x = {'joao':10, 'barb':5, 'manuela':7}"
      ],
      "metadata": {
        "id": "pdX9qveXOKW0"
      },
      "execution_count": null,
      "outputs": []
    },
    {
      "cell_type": "code",
      "source": [
        "class Professor():\n",
        "  def __init__(self, nome, disciplina, notas_alunos):\n",
        "    self.nome = nome\n",
        "    self.disciplina = disciplina\n",
        "    self.__notas_alunos = notas_alunos\n",
        "\n",
        "  def adicionar_nota(self, aluno, nota):\n",
        "    self.__notas_alunos[aluno] = nota\n",
        "    return\n",
        "\n",
        "  def ver_nota(self, aluno):\n",
        "\n",
        "    try:\n",
        "      nota = self.__notas_alunos[aluno]\n",
        "\n",
        "    except KeyError:\n",
        "      print(f'o aluno {aluno} não consta no dicionário')\n",
        "    return nota\n"
      ],
      "metadata": {
        "id": "VOadJN_1tM0P"
      },
      "execution_count": null,
      "outputs": []
    },
    {
      "cell_type": "code",
      "source": [
        "p1 = Professor('bruno', 'matematica', x)"
      ],
      "metadata": {
        "id": "k4T6cqd3OU5y"
      },
      "execution_count": null,
      "outputs": []
    },
    {
      "cell_type": "code",
      "source": [
        "p1.adicionar_nota('francisco', 8)"
      ],
      "metadata": {
        "id": "gpOpk-wZOXIB"
      },
      "execution_count": null,
      "outputs": []
    },
    {
      "cell_type": "code",
      "source": [
        "p1.ver_nota('francisco')"
      ],
      "metadata": {
        "colab": {
          "base_uri": "https://localhost:8080/"
        },
        "id": "ylRvETJ0OuTn",
        "outputId": "31f9cf57-ba51-4022-e2d4-f75c20e1ff86"
      },
      "execution_count": null,
      "outputs": [
        {
          "output_type": "execute_result",
          "data": {
            "text/plain": [
              "8"
            ]
          },
          "metadata": {},
          "execution_count": 15
        }
      ]
    },
    {
      "cell_type": "code",
      "source": [
        "x"
      ],
      "metadata": {
        "colab": {
          "base_uri": "https://localhost:8080/"
        },
        "id": "MgWIwnKHO_XX",
        "outputId": "d2f3caa8-c473-4539-b3c0-4205f86edaea"
      },
      "execution_count": null,
      "outputs": [
        {
          "output_type": "execute_result",
          "data": {
            "text/plain": [
              "{'joao': 10, 'barb': 5, 'manuela': 7, 'francisco': 8}"
            ]
          },
          "metadata": {},
          "execution_count": 16
        }
      ]
    },
    {
      "cell_type": "code",
      "source": [
        "p1.ver_nota('lucas')"
      ],
      "metadata": {
        "colab": {
          "base_uri": "https://localhost:8080/",
          "height": 279
        },
        "id": "sDCr8dt8PAyT",
        "outputId": "c5641076-4244-4ac3-e32e-4c00d36e9165"
      },
      "execution_count": null,
      "outputs": [
        {
          "output_type": "stream",
          "name": "stdout",
          "text": [
            "o aluno lucas não consta no dicionário\n"
          ]
        },
        {
          "output_type": "error",
          "ename": "UnboundLocalError",
          "evalue": "ignored",
          "traceback": [
            "\u001b[0;31m---------------------------------------------------------------------------\u001b[0m",
            "\u001b[0;31mUnboundLocalError\u001b[0m                         Traceback (most recent call last)",
            "\u001b[0;32m<ipython-input-17-e82e7e3474b1>\u001b[0m in \u001b[0;36m<cell line: 1>\u001b[0;34m()\u001b[0m\n\u001b[0;32m----> 1\u001b[0;31m \u001b[0mp1\u001b[0m\u001b[0;34m.\u001b[0m\u001b[0mver_nota\u001b[0m\u001b[0;34m(\u001b[0m\u001b[0;34m'lucas'\u001b[0m\u001b[0;34m)\u001b[0m\u001b[0;34m\u001b[0m\u001b[0;34m\u001b[0m\u001b[0m\n\u001b[0m",
            "\u001b[0;32m<ipython-input-12-8a5af9bd3573>\u001b[0m in \u001b[0;36mver_nota\u001b[0;34m(self, aluno)\u001b[0m\n\u001b[1;32m     16\u001b[0m     \u001b[0;32mexcept\u001b[0m \u001b[0mKeyError\u001b[0m\u001b[0;34m:\u001b[0m\u001b[0;34m\u001b[0m\u001b[0;34m\u001b[0m\u001b[0m\n\u001b[1;32m     17\u001b[0m       \u001b[0mprint\u001b[0m\u001b[0;34m(\u001b[0m\u001b[0;34mf'o aluno {aluno} não consta no dicionário'\u001b[0m\u001b[0;34m)\u001b[0m\u001b[0;34m\u001b[0m\u001b[0;34m\u001b[0m\u001b[0m\n\u001b[0;32m---> 18\u001b[0;31m     \u001b[0;32mreturn\u001b[0m \u001b[0mnota\u001b[0m\u001b[0;34m\u001b[0m\u001b[0;34m\u001b[0m\u001b[0m\n\u001b[0m",
            "\u001b[0;31mUnboundLocalError\u001b[0m: local variable 'nota' referenced before assignment"
          ]
        }
      ]
    },
    {
      "cell_type": "code",
      "source": [],
      "metadata": {
        "id": "IizD2nkqPGLT"
      },
      "execution_count": null,
      "outputs": []
    }
  ]
}