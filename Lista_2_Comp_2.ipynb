{
  "cells": [
    {
      "cell_type": "markdown",
      "metadata": {
        "id": "view-in-github",
        "colab_type": "text"
      },
      "source": [
        "<a href=\"https://colab.research.google.com/github/mattaugustt/Computa-o-2-UFRJ-/blob/main/Lista_2_Comp_2.ipynb\" target=\"_parent\"><img src=\"https://colab.research.google.com/assets/colab-badge.svg\" alt=\"Open In Colab\"/></a>"
      ]
    },
    {
      "cell_type": "markdown",
      "source": [
        "###Comp. 2 - 2023.2\n",
        "<br>\n",
        "\n",
        "###Nome: <br>\n",
        "Matheus Augusto de Souza\n",
        "\n",
        "###DRE: <br>\n",
        "118164136"
      ],
      "metadata": {
        "id": "ns6aajEsCA3d"
      }
    },
    {
      "cell_type": "markdown",
      "metadata": {
        "id": "Zku7Ryo-Xb1l"
      },
      "source": [
        "#Questão 1: <br>\n",
        "Crie duas classes: Funcionario e Gerente. <br>\n",
        "\n",
        "a) Todos os atributos das classes devem ser públicos.\n",
        "\n",
        "b) Gerente deve ser classe filha de Funcionario.\n",
        "\n",
        "c) Os atributos da classe Funcionario são: nome, cpf, salario e departamento.\n",
        "\n",
        "d) A classe Funcionario tem o método bonificar(), que não recebe nenhum parâmetro, e acrescenta 10% ao salário dele.\n",
        "\n",
        "e) A classe Gerente deve ter, como atributos adicionais, senha e o número de funcionários gerenciados\n",
        "\n",
        "<br>\n",
        "\n",
        "f) A classe Gerente tem, ao menos, esse dois métodos:\n",
        "\n",
        "i. autenticarSenha(senha), que apenas compara a senha do parâmetro como valor do atributo senha, retornando True ou False.\n",
        "\n",
        "ii. bonificar(), que acrescenta ao salarário do gerente o valor de 15%\n",
        "\n",
        "<br>\n",
        "\n",
        "g) Crie objetos e teste suas classes."
      ]
    },
    {
      "cell_type": "code",
      "execution_count": null,
      "metadata": {
        "id": "NE_7FSfrXVuG"
      },
      "outputs": [],
      "source": [
        "class Funcionario():\n",
        "  def __init__(self, nome, cpf, salario, departamento):\n",
        "    self.nome = nome\n",
        "    self.cpf = cpf\n",
        "    self.sal = salario\n",
        "    self.dep = departamento\n",
        "\n",
        "  def bonificar(self):\n",
        "    self.sal += (self.sal*0.1)\n",
        "    return\n",
        "\n",
        "class Gerente(Funcionario):\n",
        "  def __init__(self, nome, cpf, salario, departamento, senha, n_funcionarios):\n",
        "    Funcionario.__init__(self, nome, cpf, salario, departamento)\n",
        "    self.senha = senha\n",
        "    self.n_func = n_funcionarios\n",
        "\n",
        "  def autenticarSenha(self, senha):\n",
        "    return self.senha == senha\n",
        "\n",
        "  def bonificar(self):\n",
        "    self.sal += (self.sal*0.15)\n",
        "    return\n",
        "\n"
      ]
    },
    {
      "cell_type": "code",
      "execution_count": null,
      "metadata": {
        "id": "siyB5aJjZRV8"
      },
      "outputs": [],
      "source": [
        "f1 = Funcionario('Joao', 12323, 1.200, 'Jogos')"
      ]
    },
    {
      "cell_type": "code",
      "execution_count": null,
      "metadata": {
        "colab": {
          "base_uri": "https://localhost:8080/",
          "height": 35
        },
        "id": "1biYDlFhZ98x",
        "outputId": "c1f56f46-91d5-475c-b168-ca46422c5c5a"
      },
      "outputs": [
        {
          "output_type": "execute_result",
          "data": {
            "text/plain": [
              "'Joao'"
            ],
            "application/vnd.google.colaboratory.intrinsic+json": {
              "type": "string"
            }
          },
          "metadata": {},
          "execution_count": 1241
        }
      ],
      "source": [
        "f1.nome"
      ]
    },
    {
      "cell_type": "code",
      "execution_count": null,
      "metadata": {
        "colab": {
          "base_uri": "https://localhost:8080/"
        },
        "id": "rjRYcyTHbVkJ",
        "outputId": "f0036cc3-ee26-4dd0-9d17-8dcca5165e33"
      },
      "outputs": [
        {
          "output_type": "execute_result",
          "data": {
            "text/plain": [
              "1.2"
            ]
          },
          "metadata": {},
          "execution_count": 1242
        }
      ],
      "source": [
        "f1.sal"
      ]
    },
    {
      "cell_type": "code",
      "execution_count": null,
      "metadata": {
        "id": "IkdPnkl1bY8t"
      },
      "outputs": [],
      "source": [
        "f1.bonificar()"
      ]
    },
    {
      "cell_type": "code",
      "execution_count": null,
      "metadata": {
        "colab": {
          "base_uri": "https://localhost:8080/"
        },
        "id": "sDrVErUubbDV",
        "outputId": "2492eea7-8924-4917-c7b5-1aa541c5982b"
      },
      "outputs": [
        {
          "output_type": "execute_result",
          "data": {
            "text/plain": [
              "1.3199999999999998"
            ]
          },
          "metadata": {},
          "execution_count": 1244
        }
      ],
      "source": [
        "f1.sal"
      ]
    },
    {
      "cell_type": "code",
      "execution_count": null,
      "metadata": {
        "id": "6GpVtRo8bcHp"
      },
      "outputs": [],
      "source": [
        "g1 = Gerente('Fernanda', 13333, 2.700, 'Jogos', 'Baba', 100)"
      ]
    },
    {
      "cell_type": "code",
      "execution_count": null,
      "metadata": {
        "colab": {
          "base_uri": "https://localhost:8080/"
        },
        "id": "KUs6KNX1bs9x",
        "outputId": "b3e0a5d9-2be3-4f4f-e8f4-da05af30f243"
      },
      "outputs": [
        {
          "output_type": "execute_result",
          "data": {
            "text/plain": [
              "False"
            ]
          },
          "metadata": {},
          "execution_count": 1246
        }
      ],
      "source": [
        "g1.autenticarSenha('Fernanda')"
      ]
    },
    {
      "cell_type": "code",
      "execution_count": null,
      "metadata": {
        "colab": {
          "base_uri": "https://localhost:8080/"
        },
        "id": "7wgdKupvbxVd",
        "outputId": "9aed60d3-a6e0-4ab9-8b53-0bd3820ffc49"
      },
      "outputs": [
        {
          "output_type": "execute_result",
          "data": {
            "text/plain": [
              "True"
            ]
          },
          "metadata": {},
          "execution_count": 1247
        }
      ],
      "source": [
        "g1.autenticarSenha('Baba')"
      ]
    },
    {
      "cell_type": "code",
      "execution_count": null,
      "metadata": {
        "colab": {
          "base_uri": "https://localhost:8080/"
        },
        "id": "OWuwVtL-b0t7",
        "outputId": "f82f911a-bd33-4f9c-e992-703dea56a577"
      },
      "outputs": [
        {
          "output_type": "execute_result",
          "data": {
            "text/plain": [
              "2.7"
            ]
          },
          "metadata": {},
          "execution_count": 1248
        }
      ],
      "source": [
        "g1.sal"
      ]
    },
    {
      "cell_type": "code",
      "execution_count": null,
      "metadata": {
        "id": "31YNn_YGb8Oa"
      },
      "outputs": [],
      "source": [
        "g1.bonificar()"
      ]
    },
    {
      "cell_type": "code",
      "execution_count": null,
      "metadata": {
        "colab": {
          "base_uri": "https://localhost:8080/"
        },
        "id": "2pi1j871b-Pe",
        "outputId": "230bbfa0-8318-4ffb-e4d2-f7de5ac8da08"
      },
      "outputs": [
        {
          "output_type": "execute_result",
          "data": {
            "text/plain": [
              "3.1050000000000004"
            ]
          },
          "metadata": {},
          "execution_count": 1250
        }
      ],
      "source": [
        "g1.sal"
      ]
    },
    {
      "cell_type": "markdown",
      "metadata": {
        "id": "v1RHNkKzcipa"
      },
      "source": [
        "#Questão 2: <br>\n",
        "Refaça o Exercício 1 implementando TODOS os atributos, de ambas as classes, como privados."
      ]
    },
    {
      "cell_type": "code",
      "execution_count": null,
      "metadata": {
        "id": "GLFp2bwJcdM5"
      },
      "outputs": [],
      "source": [
        "class Funcionario():\n",
        "  def __init__(self, nome, cpf, salario, departamento):\n",
        "    self.__nome = nome\n",
        "    self.__cpf = cpf\n",
        "    self.__sal = salario\n",
        "    self.__dep = departamento\n",
        "\n",
        "  def bonificar(self):\n",
        "    self.__sal += (self.__sal*0.1)\n",
        "    return\n",
        "\n",
        "  def getNome(self):\n",
        "    return self.__nome\n",
        "\n",
        "  def getSal(self):\n",
        "    return self.__sal\n",
        "\n",
        "  def setSal(self, salario):\n",
        "    self.__sal = salario\n",
        "    return\n",
        "\n",
        "class Gerente(Funcionario):\n",
        "  def __init__(self, nome, cpf, salario, departamento, senha, n_funcionarios):\n",
        "    Funcionario.__init__(self, nome, cpf, salario, departamento)\n",
        "    self.__senha = senha\n",
        "    self.__n_func = n_funcionarios\n",
        "\n",
        "  def autenticarSenha(self, senha):\n",
        "    return self.__senha == senha\n",
        "\n",
        "  def bonificar(self):\n",
        "    x = self.getSal()\n",
        "    y = x + (x*0.15)\n",
        "    self.setSal(y)\n",
        "    return\n",
        "\n"
      ]
    },
    {
      "cell_type": "code",
      "execution_count": null,
      "metadata": {
        "id": "tbfnQrE8dVmp"
      },
      "outputs": [],
      "source": [
        "f2 = Funcionario('Gabriel', 2323, 2.0, 'Web')"
      ]
    },
    {
      "cell_type": "code",
      "execution_count": null,
      "metadata": {
        "colab": {
          "base_uri": "https://localhost:8080/"
        },
        "id": "S1LQarIRdd6h",
        "outputId": "cb3fbcbb-5330-4f8e-fa97-7f3ff18eefa4"
      },
      "outputs": [
        {
          "output_type": "execute_result",
          "data": {
            "text/plain": [
              "2.0"
            ]
          },
          "metadata": {},
          "execution_count": 1253
        }
      ],
      "source": [
        "f2.getSal()"
      ]
    },
    {
      "cell_type": "code",
      "execution_count": null,
      "metadata": {
        "id": "OXf8iXYAdgUp"
      },
      "outputs": [],
      "source": [
        "f2.bonificar()"
      ]
    },
    {
      "cell_type": "code",
      "execution_count": null,
      "metadata": {
        "colab": {
          "base_uri": "https://localhost:8080/"
        },
        "id": "hXSbEqOddzy5",
        "outputId": "5b31fff3-441e-4944-d718-f992392c2010"
      },
      "outputs": [
        {
          "output_type": "execute_result",
          "data": {
            "text/plain": [
              "2.2"
            ]
          },
          "metadata": {},
          "execution_count": 1255
        }
      ],
      "source": [
        "f2.getSal()"
      ]
    },
    {
      "cell_type": "code",
      "execution_count": null,
      "metadata": {
        "id": "MmEjMDDrd8c1"
      },
      "outputs": [],
      "source": [
        "g2 = Gerente('Rodrigo', 2221, 3.5, 'Web', 'HUNJI', 110)"
      ]
    },
    {
      "cell_type": "code",
      "execution_count": null,
      "metadata": {
        "colab": {
          "base_uri": "https://localhost:8080/"
        },
        "id": "_qfs_2O6eHXc",
        "outputId": "ebbbdab2-24f3-4662-d10f-e85daa5da119"
      },
      "outputs": [
        {
          "output_type": "execute_result",
          "data": {
            "text/plain": [
              "False"
            ]
          },
          "metadata": {},
          "execution_count": 1257
        }
      ],
      "source": [
        "g2.autenticarSenha('BHUNJ')"
      ]
    },
    {
      "cell_type": "code",
      "execution_count": null,
      "metadata": {
        "colab": {
          "base_uri": "https://localhost:8080/"
        },
        "id": "SzpkfejgeLuJ",
        "outputId": "ee6cb459-2a79-4c40-b886-1a9b999341ef"
      },
      "outputs": [
        {
          "output_type": "execute_result",
          "data": {
            "text/plain": [
              "True"
            ]
          },
          "metadata": {},
          "execution_count": 1258
        }
      ],
      "source": [
        "g2.autenticarSenha('HUNJI')"
      ]
    },
    {
      "cell_type": "code",
      "execution_count": null,
      "metadata": {
        "colab": {
          "base_uri": "https://localhost:8080/"
        },
        "id": "SR8iyQR-eOyN",
        "outputId": "1d8b8b7e-925d-4c9f-d8ad-31720bb8b45f"
      },
      "outputs": [
        {
          "output_type": "execute_result",
          "data": {
            "text/plain": [
              "3.5"
            ]
          },
          "metadata": {},
          "execution_count": 1259
        }
      ],
      "source": [
        "g2.getSal()"
      ]
    },
    {
      "cell_type": "code",
      "execution_count": null,
      "metadata": {
        "id": "39OW0Z4NeRoU"
      },
      "outputs": [],
      "source": [
        "g2.bonificar()"
      ]
    },
    {
      "cell_type": "code",
      "execution_count": null,
      "metadata": {
        "colab": {
          "base_uri": "https://localhost:8080/"
        },
        "id": "0KbNYDnveTIt",
        "outputId": "a923bb33-5ec4-4861-9fd0-905f3665a06c"
      },
      "outputs": [
        {
          "output_type": "execute_result",
          "data": {
            "text/plain": [
              "4.025"
            ]
          },
          "metadata": {},
          "execution_count": 1261
        }
      ],
      "source": [
        "g2.getSal()"
      ]
    },
    {
      "cell_type": "markdown",
      "metadata": {
        "id": "yg1Yo4NfQJkT"
      },
      "source": [
        "#Questão 3:<br>\n",
        "Crie a classe Emprestavel com os atributos privados: titulo, nomePessoa, telefonePessoa e dataEmprestimo com os seus respectivos getters e setters públicos. <br>\n",
        "\n",
        "a) Crie a classe Livro e a classe CD, que herdem de Emprestavel e tenham os atributos autor e artista, respectivamente, também privados com getters e setters públicos.\n",
        "\n",
        "b) Em uma lista, coloque pelo menos 3 itens emprestáveis diferentes de cada tipo, emprestados para pessoas diferentes.\n",
        "\n",
        "c) Percorra essa lista imprimindo o que foi emprestado para quem e quando, no seguinte formato: “O item X foi emprestado para Y em Z”.\n",
        "\n",
        "d) Para utilizar o suporte a data, inclua no início do seu programa a linha “from datetime import date”. As datas devem ser digitadas no formato (ano,mês,dia). Assim, para o dia 23/03/2017: d = date(2017,03,23)."
      ]
    },
    {
      "cell_type": "code",
      "execution_count": null,
      "metadata": {
        "id": "8Bh78idfQGkm"
      },
      "outputs": [],
      "source": [
        "from datetime import date\n",
        "\n",
        "\n",
        "class Emprestavel():\n",
        "  def __init__(self, titulo, nomePessoa, telefonePessoa, dataEmprestimo):\n",
        "    self.__titulo = titulo\n",
        "    self.__nomePessoa = nomePessoa\n",
        "    self.__telefonePessoa = telefonePessoa\n",
        "    self.__dataEmprestimo = dataEmprestimo\n",
        "\n",
        "  def getNome(self):\n",
        "    return self.__nomePessoa\n",
        "\n",
        "  def setNome(self, nome):\n",
        "    self.__nomePessoa = nome\n",
        "    return\n",
        "\n",
        "  def getTelefone(self):\n",
        "    return self.__telefonePessoa\n",
        "\n",
        "  def setTelefone(self, telefone):\n",
        "    self.__telefonePessoa = telefone\n",
        "    return\n",
        "\n",
        "  def getTitulo(self):\n",
        "    return self.__titulo\n",
        "\n",
        "  def setTitulo(self, titulo):\n",
        "    self.__titulo = titulo\n",
        "    return\n",
        "\n",
        "  def getDataEmprestimo(self):\n",
        "    return self.__dataEmprestimo\n",
        "\n",
        "  def setDataEmprestimo(self, data):\n",
        "    self.__dataEmprestimo = date()\n",
        "\n",
        "class CD(Emprestavel):\n",
        "  def __init__(self, titulo, nomePessoa, telefonePessoa, dataEmprestimo, artista):\n",
        "    Emprestavel.__init__(self, titulo, nomePessoa, telefonePessoa, dataEmprestimo)\n",
        "    self.__artista = artista\n",
        "\n",
        "  def getArtista(self):\n",
        "    return self.__artista\n",
        "\n",
        "  def setArtista(self, artista):\n",
        "    self.__artista = artista\n",
        "    return\n",
        "\n",
        "\n",
        "class Livro(Emprestavel):\n",
        "  def __init__(self, titulo, nomePessoa, telefonePessoa, dataEmprestimo, autor):\n",
        "    Emprestavel.__init__(self, titulo, nomePessoa, telefonePessoa, dataEmprestimo)\n",
        "    self.__autor = autor\n",
        "\n",
        "  def getAutor(self):\n",
        "    return self.__autor\n",
        "\n",
        "  def setAutor(self, autor):\n",
        "    self.__autor = autor\n",
        "    return"
      ]
    },
    {
      "cell_type": "code",
      "execution_count": null,
      "metadata": {
        "id": "InOJVa1vaE1d"
      },
      "outputs": [],
      "source": [
        "cd1 = CD('RIOT', 'João', 21956543, date(2023, 9, 26), 'Paramore')"
      ]
    },
    {
      "cell_type": "code",
      "execution_count": null,
      "metadata": {
        "id": "u64Xuy88djDW"
      },
      "outputs": [],
      "source": [
        "cd2 = CD('Rock', 'Marcos', 24938485, date(2022, 10, 20), 'Linkin Park')"
      ]
    },
    {
      "cell_type": "code",
      "execution_count": null,
      "metadata": {
        "id": "1lR4Mzj5dmSx"
      },
      "outputs": [],
      "source": [
        "cd3 = CD('Alegoria', 'Bruna', 2144343, date(2022, 5, 29), 'Gloria Groover')"
      ]
    },
    {
      "cell_type": "code",
      "execution_count": null,
      "metadata": {
        "id": "TR9nmKAXfuMw"
      },
      "outputs": [],
      "source": [
        "l1 = Livro('Harry Potter', 'Larissa', 119587483, date(2020, 11, 25), 'J. K. Rowling')"
      ]
    },
    {
      "cell_type": "code",
      "execution_count": null,
      "metadata": {
        "id": "SVWlu7lrgUf9"
      },
      "outputs": [],
      "source": [
        "l2 = Livro('Guerra dos Tronos', 'Fernando', 45999483, date(2023, 4, 15), 'George R. R. Martin')"
      ]
    },
    {
      "cell_type": "code",
      "execution_count": null,
      "metadata": {
        "id": "0ZsAqv9tg75t"
      },
      "outputs": [],
      "source": [
        "l3 = Livro('O Senhor dos Aneis', 'Manuela', 33234453, date(2021, 10, 10), 'J. R. R. Tolkien')"
      ]
    },
    {
      "cell_type": "code",
      "execution_count": null,
      "metadata": {
        "id": "qP4HLJjoht1s"
      },
      "outputs": [],
      "source": [
        "lista = [cd1, cd2, cd3, l1, l2, l3]"
      ]
    },
    {
      "cell_type": "code",
      "execution_count": null,
      "metadata": {
        "id": "7bLgCAumhyka"
      },
      "outputs": [],
      "source": [
        "def verifica(lista):\n",
        "  for i in lista:\n",
        "    print(f'O item {i.getTitulo()} foi emprestado para {i.getNome()} em {i.getDataEmprestimo()}')"
      ]
    },
    {
      "cell_type": "code",
      "execution_count": null,
      "metadata": {
        "colab": {
          "base_uri": "https://localhost:8080/"
        },
        "id": "9ZE7rqabicNG",
        "outputId": "263fd527-ee44-4419-8ec4-5c6a74cb6b89"
      },
      "outputs": [
        {
          "output_type": "stream",
          "name": "stdout",
          "text": [
            "O item RIOT foi emprestado para João em 2023-09-26\n",
            "O item Rock foi emprestado para Marcos em 2022-10-20\n",
            "O item Alegoria foi emprestado para Bruna em 2022-05-29\n",
            "O item Harry Potter foi emprestado para Larissa em 2020-11-25\n",
            "O item Guerra dos Tronos foi emprestado para Fernando em 2023-04-15\n",
            "O item O Senhor dos Aneis foi emprestado para Manuela em 2021-10-10\n"
          ]
        }
      ],
      "source": [
        "verifica(lista)"
      ]
    },
    {
      "cell_type": "markdown",
      "metadata": {
        "id": "cdl7rO7MkN9x"
      },
      "source": [
        "#Questão 4: <br>\n",
        "Crie uma classe Funcionario com os atributos privados nome, cpf e salario; e um construtor que deve receber como parâmetro nome e cpf. Todos os atributos devem ter métodos getters definidos.\n",
        "\n",
        "a) Crie uma classe TrabalhadorAssalariado e outra TrabalhadorHorista, ambas herdando de Funcionario.\n",
        "\n",
        "b) A classe TrabalhadorAssalariado possui o método definirSalario(salario) que recebe um valor como parâmetro e o atribui ao atributo salario.\n",
        "\n",
        "c) A classe TrabalhadorHorista possui os atributos privados valorHora e horasTrabalhadasMes, com seus respectivos getters e setters.\n",
        "\n",
        "d) A classe TrabalhadorHorista também possui o método calcularPagamento(), que ao ser invocado deve calcular o valor do salário e preencher este atributo. O salário é obtido multiplicando-se as horas trabalhadas no mês pelo valor da hora. Crie defesas que verifiquem se os atributos necessários para o cálculo do salário estão preenchidos. Se não estiverem emita um aviso.\n",
        "\n",
        "e) Crie três instâncias de cada uma das classes TrabalhadorAssalariado e TrabalhadorHorista, coloque-os em uma lista e percorra imprimindo os nomes dos funcionários com seus pagamentos do mês."
      ]
    },
    {
      "cell_type": "code",
      "execution_count": null,
      "metadata": {
        "id": "w0lg--LTieIK"
      },
      "outputs": [],
      "source": [
        "class Funcionario():\n",
        "  def __init__(self, nome, cpf):\n",
        "    self.__nome = nome\n",
        "    self.__cpf = cpf\n",
        "    self.__salario = 0\n",
        "\n",
        "  def getNome(self):\n",
        "    return self.__nome\n",
        "\n",
        "  def getCpf(self):\n",
        "    return self.__cpf\n",
        "\n",
        "  def getSalario(self):\n",
        "    return self.__salario\n",
        "\n",
        "  def setSalario(self, salario):\n",
        "    self.__salario = salario\n",
        "    return\n",
        "\n",
        "\n",
        "class TrabalhadorAssalariado(Funcionario):\n",
        "  def __init__(self, nome, cpf):\n",
        "    Funcionario.__init__(self, nome, cpf)\n",
        "\n",
        "  def definirSalario(self, salario):\n",
        "    self.setSalario(salario)\n",
        "    return\n",
        "\n",
        "\n",
        "\n",
        "\n",
        "class TrabalhadorHorista(Funcionario):\n",
        "  def __init__(self, nome, cpf, valorHora, horasTrabalhadasMes):\n",
        "    Funcionario.__init__(self, nome, cpf)\n",
        "    self.__valorHora = valorHora\n",
        "    self.__horasTrabalhadasMes = horasTrabalhadasMes\n",
        "\n",
        "  def getHoras(self):\n",
        "    return self.__horasTrabalhadasMes\n",
        "\n",
        "  def setHoras(self, horas):\n",
        "    self.__horasTrabalhadasMes = horas\n",
        "    return\n",
        "\n",
        "  def getValorHora(self):\n",
        "    return self.__valorHora\n",
        "\n",
        "  def setValorHora(self, valor):\n",
        "    self.__valorHora = valor\n",
        "    return\n",
        "\n",
        "  def calcularPagamento(self):\n",
        "    if self.getValorHora() <= 0:\n",
        "      print(f'O valor hora {self.getValorHora()} não é aceito, adicione um valido.')\n",
        "\n",
        "    elif self.getHoras() <= 0:\n",
        "      print(f'{self.getHoras()} não são horas em um formato aceito. \\nPor favor, coloque num formato de horas correto.')\n",
        "\n",
        "    else:\n",
        "      self.setSalario(self.getValorHora() * self.getHoras())\n",
        "      return\n"
      ]
    },
    {
      "cell_type": "code",
      "execution_count": null,
      "metadata": {
        "id": "C4zv2aAhmQl2"
      },
      "outputs": [],
      "source": [
        "t1 = TrabalhadorAssalariado('João', 1223444553)"
      ]
    },
    {
      "cell_type": "code",
      "execution_count": null,
      "metadata": {
        "id": "x-U8AcGAmgIf"
      },
      "outputs": [],
      "source": [
        "t1.definirSalario(1.200)"
      ]
    },
    {
      "cell_type": "code",
      "execution_count": null,
      "metadata": {
        "id": "EAqDZK2VmjKd"
      },
      "outputs": [],
      "source": [
        "t2 = TrabalhadorAssalariado('Fernanda', 36464734)"
      ]
    },
    {
      "cell_type": "code",
      "execution_count": null,
      "metadata": {
        "id": "htQMf2RommE-"
      },
      "outputs": [],
      "source": [
        "t2.definirSalario(3.500)"
      ]
    },
    {
      "cell_type": "code",
      "execution_count": null,
      "metadata": {
        "id": "metUkGStrX2-"
      },
      "outputs": [],
      "source": [
        "t3 = TrabalhadorAssalariado('Marcelo', 354504564)"
      ]
    },
    {
      "cell_type": "code",
      "execution_count": null,
      "metadata": {
        "id": "Hw2eTdXVrigg"
      },
      "outputs": [],
      "source": [
        "h1 = TrabalhadorHorista('Fernando', 223442433, 0, 10)"
      ]
    },
    {
      "cell_type": "code",
      "execution_count": null,
      "metadata": {
        "colab": {
          "base_uri": "https://localhost:8080/"
        },
        "id": "jbLHfXe5ruPV",
        "outputId": "43678507-0d7d-4a9b-c0d2-ad4bcf011bc3"
      },
      "outputs": [
        {
          "output_type": "stream",
          "name": "stdout",
          "text": [
            "O valor hora 0 não é aceito, adicione um valido.\n"
          ]
        }
      ],
      "source": [
        "h1.calcularPagamento()"
      ]
    },
    {
      "cell_type": "code",
      "execution_count": null,
      "metadata": {
        "id": "-llATOKOrxJV"
      },
      "outputs": [],
      "source": [
        "h1.setValorHora(20)"
      ]
    },
    {
      "cell_type": "code",
      "execution_count": null,
      "metadata": {
        "id": "GmiPiBnIr3no"
      },
      "outputs": [],
      "source": [
        "h1.calcularPagamento()"
      ]
    },
    {
      "cell_type": "code",
      "execution_count": null,
      "metadata": {
        "id": "r0ZdvpVmr9_x"
      },
      "outputs": [],
      "source": [
        "h2 = TrabalhadorHorista('Gustavo', 747848337, 15, 0)"
      ]
    },
    {
      "cell_type": "code",
      "execution_count": null,
      "metadata": {
        "colab": {
          "base_uri": "https://localhost:8080/"
        },
        "id": "bRSTIebosGYb",
        "outputId": "25dd7ef6-db02-4416-fcfc-e7e24c3ad625"
      },
      "outputs": [
        {
          "output_type": "stream",
          "name": "stdout",
          "text": [
            "0 não são horas em um formato aceito. \n",
            "Por favor, coloque num formato de horas correto.\n"
          ]
        }
      ],
      "source": [
        "h2.calcularPagamento()"
      ]
    },
    {
      "cell_type": "code",
      "execution_count": null,
      "metadata": {
        "id": "-SmOw4a6sKSn"
      },
      "outputs": [],
      "source": [
        "h2.setHoras(30)"
      ]
    },
    {
      "cell_type": "code",
      "execution_count": null,
      "metadata": {
        "id": "ShJHpUDssQAL"
      },
      "outputs": [],
      "source": [
        "h2.calcularPagamento()"
      ]
    },
    {
      "cell_type": "code",
      "execution_count": null,
      "metadata": {
        "id": "bCRfFLFTsSj5"
      },
      "outputs": [],
      "source": [
        "h3 = TrabalhadorHorista('Marta', 2234343, 15, 40)"
      ]
    },
    {
      "cell_type": "code",
      "execution_count": null,
      "metadata": {
        "id": "vSJepgzwtqSC"
      },
      "outputs": [],
      "source": [
        "h3.calcularPagamento()"
      ]
    },
    {
      "cell_type": "code",
      "execution_count": null,
      "metadata": {
        "colab": {
          "base_uri": "https://localhost:8080/"
        },
        "id": "h_BGb1GksZXQ",
        "outputId": "2513c21d-ffb8-4737-b2af-c18059c4671d"
      },
      "outputs": [
        {
          "output_type": "stream",
          "name": "stdout",
          "text": [
            "O trabalhador João deverá receber como pagamento 1.2\n",
            "O trabalhador Fernanda deverá receber como pagamento 3.5\n",
            "O trabalhador Marcelo deverá receber como pagamento 0\n",
            "O trabalhador Fernando deverá receber como pagamento 200\n",
            "O trabalhador Gustavo deverá receber como pagamento 450\n",
            "O trabalhador Marta deverá receber como pagamento 600\n"
          ]
        }
      ],
      "source": [
        "lista = [t1, t2, t3, h1, h2, h3]\n",
        "\n",
        "def verifica(lista):\n",
        "  for i in lista:\n",
        "    print(f'O trabalhador {i.getNome()} deverá receber como pagamento {i.getSalario()}')\n",
        "\n",
        "verifica(lista)"
      ]
    },
    {
      "cell_type": "markdown",
      "metadata": {
        "id": "tZxkY0Vxvmfg"
      },
      "source": [
        "#Questão 5: <br>\n",
        "Escreva uma classe SetorPessoal que tenha como atributo uma lista que deverá guardar objetos da classe Funcionario construida no Exercício 2.\n",
        "\n",
        "Acrescente os seguintes métodos à classe SetorPessoal:\n",
        "\n",
        "a) Um método para adicionar funcionários na lista. O funcionário pode ser normal ou um gerente, criados como objetos.\n",
        "\n",
        "b) Um método para imprimir a folha de pagamento informando o nome dos funcionários e os seus respectivos salários, um por linha.\n",
        "\n",
        "c) Um método para retornar o valor total da folha de pagamento.\n",
        "\n",
        "d) Um método para retornar o nome do funcionário que recebe o maior salário.\n",
        "\n",
        "e) Modifique a classe Funcionario para acrescentar o nome da sua função/cargo.\n",
        "\n",
        "f) Inclua um método na classe SetorPessoal que possa receber como parâmetro o nome de uma determinada função/cargo e imprimir o nome de todas as pessoas que exercem essa função."
      ]
    },
    {
      "cell_type": "code",
      "execution_count": null,
      "metadata": {
        "id": "qSix2l_cvlcu"
      },
      "outputs": [],
      "source": [
        "class Funcionario():\n",
        "  def __init__(self, nome, cpf, salario, departamento, cargo):\n",
        "    self.__nome = nome\n",
        "    self.__cpf = cpf\n",
        "    self.__sal = salario\n",
        "    self.__dep = departamento\n",
        "    self.__cargo = cargo\n",
        "\n",
        "  def bonificar(self):\n",
        "    self.__sal += (self.__sal*0.1)\n",
        "    return\n",
        "\n",
        "  def getNome(self):\n",
        "    return self.__nome\n",
        "\n",
        "  def getSal(self):\n",
        "    return self.__sal\n",
        "\n",
        "  def setSal(self, salario):\n",
        "    self.__sal = salario\n",
        "    return\n",
        "\n",
        "  def getCargo(self):\n",
        "    return self.__cargo\n",
        "\n",
        "class Gerente(Funcionario):\n",
        "  def __init__(self, nome, cpf, salario, departamento, senha, n_funcionarios):\n",
        "    Funcionario.__init__(self, nome, cpf, salario, departamento)\n",
        "    self.__senha = senha\n",
        "    self.__n_func = n_funcionarios\n",
        "\n",
        "  def autenticarSenha(self, senha):\n",
        "    return self.__senha == senha\n",
        "\n",
        "  def bonificar(self):\n",
        "    x = self.getSal()\n",
        "    y = x + (x*0.15)\n",
        "    self.setSal(y)\n",
        "    return\n",
        "\n",
        "\n",
        "\n",
        "\n",
        "class SetorPessoal():\n",
        "  def __init__(self, lista):\n",
        "    self.lista = lista\n",
        "\n",
        "  def adicionarFuncionario(self, funcionario):\n",
        "    self.lista.append(funcionario)\n",
        "    return\n",
        "\n",
        "  def folhaPagamento(self):\n",
        "    for i in self.lista:\n",
        "      print(f'O trabalhador {i.getNome()} deverá receber como pagamento {i.getSal()}')\n",
        "\n",
        "  def totalFolhaPagamento(self):\n",
        "    x = []\n",
        "    for i in self.lista:\n",
        "      y = i.getSal()\n",
        "      x.append(y)\n",
        "    z = sum(x)\n",
        "    print(f'O valor total é: {z}')\n",
        "\n",
        "  def maiorSalario(self):\n",
        "    x = []\n",
        "    for i in self.lista:\n",
        "      y = i.getSal()\n",
        "      x.append(y)\n",
        "    maior = max(x)\n",
        "    i = x.index(maior)\n",
        "    print(f'O funcionário {self.lista[i].getNome()} tem o maior salário, sendo ele de {self.lista[i].getSal()}')\n",
        "\n",
        "\n",
        "  def pessoasCargo(self, cargo):\n",
        "    for i in self.lista:\n",
        "      if i.getCargo() == cargo:\n",
        "        print(f'A pessoa {i.getNome()} exerce o cargo {i.getCargo()}')\n",
        "\n"
      ]
    },
    {
      "cell_type": "code",
      "execution_count": null,
      "metadata": {
        "id": "3xRNeQg6tPZh"
      },
      "outputs": [],
      "source": [
        "f1 = Funcionario('Felipe', 13223, 1.200, 'Web', 'desenvolvedor')"
      ]
    },
    {
      "cell_type": "code",
      "execution_count": null,
      "metadata": {
        "id": "VtYZl7Ar3HxD"
      },
      "outputs": [],
      "source": [
        "f2 = Funcionario('Victor', 56432, 4.200, 'Web', 'designer')"
      ]
    },
    {
      "cell_type": "code",
      "execution_count": null,
      "metadata": {
        "id": "zJAHL1v73Qgo"
      },
      "outputs": [],
      "source": [
        "f3 = Funcionario('Gabriela', 52334, 1.700, 'Games', 'desenvolvedor')"
      ]
    },
    {
      "cell_type": "code",
      "execution_count": null,
      "metadata": {
        "id": "iaBnFre83aEY"
      },
      "outputs": [],
      "source": [
        "g1 = Funcionario('André', 111234, 1.800, 'Games', 'marketing')"
      ]
    },
    {
      "cell_type": "code",
      "execution_count": null,
      "metadata": {
        "id": "K8tQ2eEo3psj"
      },
      "outputs": [],
      "source": [
        "g2 = Funcionario('Matheus', 32342, 2.800, 'Web', 'desenvolvedor')"
      ]
    },
    {
      "cell_type": "code",
      "execution_count": null,
      "metadata": {
        "id": "vya7KtSp3zMN"
      },
      "outputs": [],
      "source": [
        "g3 = Funcionario('Barbara', 12231, 1.000, 'Games', 'estagiario')"
      ]
    },
    {
      "cell_type": "code",
      "execution_count": null,
      "metadata": {
        "id": "mIFe7SYB3_9R"
      },
      "outputs": [],
      "source": [
        "lista = [f1, f2, f3, g1, g2, g3]"
      ]
    },
    {
      "cell_type": "code",
      "execution_count": null,
      "metadata": {
        "id": "swd6xZDA4FXT"
      },
      "outputs": [],
      "source": [
        "p1 = SetorPessoal(lista)"
      ]
    },
    {
      "cell_type": "code",
      "execution_count": null,
      "metadata": {
        "colab": {
          "base_uri": "https://localhost:8080/"
        },
        "id": "bHQCBXMo4OD-",
        "outputId": "0b830a97-f1b5-44b3-847a-a21211906f5a"
      },
      "outputs": [
        {
          "output_type": "stream",
          "name": "stdout",
          "text": [
            "O trabalhador Felipe deverá receber como pagamento 1.2\n",
            "O trabalhador Victor deverá receber como pagamento 4.2\n",
            "O trabalhador Gabriela deverá receber como pagamento 1.7\n",
            "O trabalhador André deverá receber como pagamento 1.8\n",
            "O trabalhador Matheus deverá receber como pagamento 2.8\n",
            "O trabalhador Barbara deverá receber como pagamento 1.0\n"
          ]
        }
      ],
      "source": [
        "p1.folhaPagamento()"
      ]
    },
    {
      "cell_type": "code",
      "execution_count": null,
      "metadata": {
        "id": "8wjnLdsV4TWC"
      },
      "outputs": [],
      "source": [
        "g4 = Funcionario('Laura', 2321, 0.500, 'Web', 'estagiario')"
      ]
    },
    {
      "cell_type": "code",
      "execution_count": null,
      "metadata": {
        "id": "Nm0TXYOm4X-v"
      },
      "outputs": [],
      "source": [
        "p1.adicionarFuncionario(g4)"
      ]
    },
    {
      "cell_type": "code",
      "execution_count": null,
      "metadata": {
        "colab": {
          "base_uri": "https://localhost:8080/"
        },
        "id": "Ff9_XPzp6OdR",
        "outputId": "72685e8d-dbc2-4f84-84d2-7d42408103bc"
      },
      "outputs": [
        {
          "output_type": "stream",
          "name": "stdout",
          "text": [
            "O trabalhador Felipe deverá receber como pagamento 1.2\n",
            "O trabalhador Victor deverá receber como pagamento 4.2\n",
            "O trabalhador Gabriela deverá receber como pagamento 1.7\n",
            "O trabalhador André deverá receber como pagamento 1.8\n",
            "O trabalhador Matheus deverá receber como pagamento 2.8\n",
            "O trabalhador Barbara deverá receber como pagamento 1.0\n",
            "O trabalhador Laura deverá receber como pagamento 0.5\n"
          ]
        }
      ],
      "source": [
        "p1.folhaPagamento()"
      ]
    },
    {
      "cell_type": "code",
      "execution_count": null,
      "metadata": {
        "colab": {
          "base_uri": "https://localhost:8080/"
        },
        "id": "ycWLAWWe6Q-S",
        "outputId": "7e8f2851-852a-4f25-b247-8e0daf835bca"
      },
      "outputs": [
        {
          "output_type": "stream",
          "name": "stdout",
          "text": [
            "O valor total é: 13.2\n"
          ]
        }
      ],
      "source": [
        "p1.totalFolhaPagamento()"
      ]
    },
    {
      "cell_type": "code",
      "execution_count": null,
      "metadata": {
        "colab": {
          "base_uri": "https://localhost:8080/"
        },
        "id": "mP5jsz7a6WtN",
        "outputId": "e22fa1a3-9c30-4837-d7a0-1868a3920962"
      },
      "outputs": [
        {
          "output_type": "stream",
          "name": "stdout",
          "text": [
            "O funcionário Victor tem o maior salário, sendo ele de 4.2\n"
          ]
        }
      ],
      "source": [
        "p1.maiorSalario()"
      ]
    },
    {
      "cell_type": "code",
      "source": [
        "p1.pessoasCargo('desenvolvedor')"
      ],
      "metadata": {
        "colab": {
          "base_uri": "https://localhost:8080/"
        },
        "id": "CLdbVeLMAtaJ",
        "outputId": "8d31a711-c96d-4356-9e4d-70d74eed1963"
      },
      "execution_count": null,
      "outputs": [
        {
          "output_type": "stream",
          "name": "stdout",
          "text": [
            "A pessoa Felipe exerce o cargo desenvolvedor\n",
            "A pessoa Gabriela exerce o cargo desenvolvedor\n",
            "A pessoa Matheus exerce o cargo desenvolvedor\n"
          ]
        }
      ]
    }
  ],
  "metadata": {
    "colab": {
      "provenance": [],
      "authorship_tag": "ABX9TyOzB7oNQ0rKw2DscYQWRp4/",
      "include_colab_link": true
    },
    "kernelspec": {
      "display_name": "Python 3",
      "name": "python3"
    },
    "language_info": {
      "name": "python"
    }
  },
  "nbformat": 4,
  "nbformat_minor": 0
}