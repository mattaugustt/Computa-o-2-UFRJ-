{
  "nbformat": 4,
  "nbformat_minor": 0,
  "metadata": {
    "colab": {
      "provenance": [],
      "authorship_tag": "ABX9TyMGIFkIBKH3DxSYufsHiAcJ",
      "include_colab_link": true
    },
    "kernelspec": {
      "name": "python3",
      "display_name": "Python 3"
    },
    "language_info": {
      "name": "python"
    }
  },
  "cells": [
    {
      "cell_type": "markdown",
      "metadata": {
        "id": "view-in-github",
        "colab_type": "text"
      },
      "source": [
        "<a href=\"https://colab.research.google.com/github/mattaugustt/Computa-o-2-UFRJ-/blob/main/Comp_2_lista_9.ipynb\" target=\"_parent\"><img src=\"https://colab.research.google.com/assets/colab-badge.svg\" alt=\"Open In Colab\"/></a>"
      ]
    },
    {
      "cell_type": "markdown",
      "source": [
        "#Questão 1: <br>\n",
        "Um sistema linear da forma Ax = b pode ser resolvido fazendo x = A^(-1)b. <br>\n",
        "Porém, se a matriz A não for quadrada, não é possível invertê-la. Neste caso, pode-se utilizar uma aproximação para a inversa da matriz A conhecida como pseudoinversa. A pseudo inversa de uma matriz A é dada por: <br>\n",
        "A† = (A^T . A)^(−1).A^T <br>\n",
        "<br>\n",
        "Faça a função __solve__ que recebe uma matriz A e um vetor b e retorna uma tupla com o vetor x com a solução do sistema e o determinante da matriz A. A função deve verificar se a matriz é quadrada e, caso a matriz A seja quadrada, a solução deve ser encontrada através do método *solve* da biblioteca scipy.\n",
        "<br>\n",
        "Caso contrário, a solução deve ser encontrada utilizando a pseudoinversa da matriz A."
      ],
      "metadata": {
        "id": "MUKXq3swgI94"
      }
    },
    {
      "cell_type": "code",
      "execution_count": null,
      "metadata": {
        "id": "cXgkSGRSf9Jy"
      },
      "outputs": [],
      "source": [
        "from scipy import linalg\n",
        "import numpy as np\n",
        "\n",
        "#from scipy.linalg import det, inv\n",
        "#det - encontra o determinante\n",
        "#inv - encontra a inversa\n",
        "#solve - resolve sistemas lineares de n eqs. e n incognitas.\n",
        "\n",
        "def solve(A,b):\n",
        "  '''Função que resolve o sistema linear, retorna o vetor e o determinante'''\n",
        "\n",
        "  #verificando se é quadrada\n",
        "  if A.shape[0] == A.shape[1]:\n",
        "    determinante = linalg.det(A)\n",
        "    x = linalg.solve(A,b)\n",
        "    print(f'solução do sistema: {x}, determinante: {determinante}')\n",
        "  else:\n",
        "    #pseudoinversa:\n",
        "    p_inversa = linalg.pinv(A)\n",
        "    # Calcula a solução usando a pseudoinversa\n",
        "    x = np.dot(p_inversa, b)\n",
        "\n",
        "    #Não existe determinante para matrizes não quadradas\n",
        "    determinante = None\n",
        "    print(f'solução do sistema: {x}, determinante: {determinante}')\n",
        "\n",
        "  return"
      ]
    },
    {
      "cell_type": "code",
      "source": [
        "A = np.array([[2, 3], [4, 5]])\n",
        "b = np.array([1, 2])\n",
        "\n",
        "solve(A,b)"
      ],
      "metadata": {
        "id": "qUY1d_DaiVgP",
        "colab": {
          "base_uri": "https://localhost:8080/"
        },
        "outputId": "f4e8aec5-b06a-460b-cd2d-8e72767ff610"
      },
      "execution_count": null,
      "outputs": [
        {
          "output_type": "stream",
          "name": "stdout",
          "text": [
            "solução do sistema: [0.5 0. ], determinante: -2.000000000000001\n"
          ]
        }
      ]
    },
    {
      "cell_type": "code",
      "source": [
        "A = np.array([[2, 3,5], [4, 5,5], [6,7,6]])\n",
        "b = np.array([1,4,5])\n",
        "\n",
        "solve(A,b)"
      ],
      "metadata": {
        "colab": {
          "base_uri": "https://localhost:8080/"
        },
        "id": "2mcb4_ijmW2Q",
        "outputId": "f0f72a0a-9f22-44ee-e933-05c88b5a4d59"
      },
      "execution_count": null,
      "outputs": [
        {
          "output_type": "stream",
          "name": "stdout",
          "text": [
            "solução do sistema: [-6.5  8.  -2. ], determinante: -1.999999999999993\n"
          ]
        }
      ]
    },
    {
      "cell_type": "code",
      "source": [
        "A = np.array([[2, 3, 1], [4, 5, 2]])\n",
        "b = np.array([1, 2])\n",
        "\n",
        "\n",
        "solve(A, b)"
      ],
      "metadata": {
        "colab": {
          "base_uri": "https://localhost:8080/"
        },
        "id": "QpdIZ_lEmkx0",
        "outputId": "d95bae58-27dd-4a78-8082-c66f50c1e9af"
      },
      "execution_count": null,
      "outputs": [
        {
          "output_type": "stream",
          "name": "stdout",
          "text": [
            "solução do sistema: [ 4.00000000e-01 -6.66133815e-16  2.00000000e-01], determinante: None\n"
          ]
        }
      ]
    },
    {
      "cell_type": "markdown",
      "source": [
        "#Questão 2: <br>\n",
        "em sistemas lineares, o condicionamento de uma matriz é uma medida com a qual é possível saber o grau de alteração que uma solução sofre ao adicionar ruído na matriz. O condicionamento de uma matriz é dado por: <br>\n",
        "k(A) = |Ymax(A)| / |Ymin(A)|' <br>\n",
        "onde |Ymax(A)| é o maior autovalor de A em módulo e |Ymin(A)| é o menor autovalor de A em módulo. <br>\n",
        "Faça uma função condicionamento que recebe uma matriz A e calcula o condicionamento dela e o retorna. Caso o valor seja superior a 10^4, a função deve retornar a string \"Matriz mal condicionada\". <br>\n"
      ],
      "metadata": {
        "id": "cmhIhd8hjW5v"
      }
    },
    {
      "cell_type": "code",
      "source": [
        "def condicionamento(A):\n",
        "  '''Função que recebe uma matriz A e calcula e retorna o condicionamento dela'''\n",
        "  autovalores, autovetores = linalg.eig(A)\n",
        "\n",
        "  maximo = max(autovalores)\n",
        "  minimo = min(autovalores)\n",
        "  k = (abs(maximo)/abs(minimo))\n",
        "  if k > 10**4:\n",
        "    return \"Matriz mal condicionada\"\n",
        "  else:\n",
        "    return k"
      ],
      "metadata": {
        "id": "deZSdMZOk3Mb"
      },
      "execution_count": null,
      "outputs": []
    },
    {
      "cell_type": "code",
      "source": [
        "A = np.array([[1,2,3],[4,5,6],[7,8,9]])\n",
        "\n",
        "condicionamento(A)"
      ],
      "metadata": {
        "colab": {
          "base_uri": "https://localhost:8080/"
        },
        "id": "CmdHrN22c4Vh",
        "outputId": "b2e952a5-e2ff-4733-abb2-b7f31f4aa810"
      },
      "execution_count": null,
      "outputs": [
        {
          "output_type": "execute_result",
          "data": {
            "text/plain": [
              "14.43070330817254"
            ]
          },
          "metadata": {},
          "execution_count": 64
        }
      ]
    },
    {
      "cell_type": "code",
      "source": [
        "A = np.array([[1000000000,500],[9000000000,45]])\n",
        "condicionamento(A)"
      ],
      "metadata": {
        "colab": {
          "base_uri": "https://localhost:8080/",
          "height": 35
        },
        "id": "5iGeCYqpdGQ7",
        "outputId": "c9cae099-e26d-45a9-ccdf-73d9a9214d8a"
      },
      "execution_count": null,
      "outputs": [
        {
          "output_type": "execute_result",
          "data": {
            "text/plain": [
              "'Matriz mal condicionada'"
            ],
            "application/vnd.google.colaboratory.intrinsic+json": {
              "type": "string"
            }
          },
          "metadata": {},
          "execution_count": 65
        }
      ]
    },
    {
      "cell_type": "markdown",
      "source": [
        "#Questão 3: <br>\n",
        "Utilizando a função __quad__ do módulo integrate da biblioteca *scipy* faça funções que resolvam as integrais a seguir: <br>\n",
        "a) f(x) = 7.x^(5/2) + 4 <br>\n",
        "b) g(t) = (t^5)/2 - 4/(t^-3) + 3t <br>\n",
        "c) h(u) = u^3.(-2u + u^-5)"
      ],
      "metadata": {
        "id": "w1hjAdL3k4jW"
      }
    },
    {
      "cell_type": "code",
      "source": [
        "from scipy import integrate"
      ],
      "metadata": {
        "id": "F9_upcOweaME"
      },
      "execution_count": null,
      "outputs": []
    },
    {
      "cell_type": "code",
      "source": [
        "#a)\n",
        "def f(x):\n",
        "  return integrate.quad(7*(x**(5/2))+4)"
      ],
      "metadata": {
        "id": "jN_YMPwndZ5e"
      },
      "execution_count": null,
      "outputs": []
    },
    {
      "cell_type": "code",
      "source": [
        "#b)\n",
        "def g(t):\n",
        "  return integrate.quad(((t**5)/2) - 4/(t**-3) + 3*t)"
      ],
      "metadata": {
        "id": "xHx77Hmhd24J"
      },
      "execution_count": null,
      "outputs": []
    },
    {
      "cell_type": "code",
      "source": [
        "#c)\n",
        "def h(u):\n",
        "  return integrate.quad((u**3)*((-2*u) + u**-5))"
      ],
      "metadata": {
        "id": "Fj6t4sbNd4MI"
      },
      "execution_count": null,
      "outputs": []
    }
  ]
}