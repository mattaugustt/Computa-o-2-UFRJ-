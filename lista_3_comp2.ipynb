{
  "nbformat": 4,
  "nbformat_minor": 0,
  "metadata": {
    "colab": {
      "provenance": []
    },
    "kernelspec": {
      "name": "python3",
      "display_name": "Python 3"
    },
    "language_info": {
      "name": "python"
    }
  },
  "cells": [
    {
      "cell_type": "markdown",
      "source": [
        "#Exercício 1:\n",
        "\n",
        "##1.1 <br>\n",
        "• Crie uma classe chamada Pessoa com um atributo privado chamado\n",
        "__nome. <br>\n",
        "• Crie métodos para definir e obter o nome da pessoa. <br>\n",
        "<br>"
      ],
      "metadata": {
        "id": "DQaUvyps0uq0"
      }
    },
    {
      "cell_type": "code",
      "execution_count": null,
      "metadata": {
        "id": "2RL9_xyR16yT"
      },
      "outputs": [],
      "source": [
        "#1.1\n",
        "class Pessoa():\n",
        "  def __init__(self, nome):\n",
        "    self.__nome = nome\n",
        "\n",
        "  def getNome(self):\n",
        "    return self.__nome\n",
        "\n",
        "  def setNome(self, novo):\n",
        "    self.__nome = novo\n",
        "    return\n"
      ]
    },
    {
      "cell_type": "code",
      "source": [
        "p1 = Pessoa('Matheus')"
      ],
      "metadata": {
        "id": "6iohWYKd0uAn"
      },
      "execution_count": null,
      "outputs": []
    },
    {
      "cell_type": "code",
      "source": [
        "p1.getNome()"
      ],
      "metadata": {
        "colab": {
          "base_uri": "https://localhost:8080/",
          "height": 35
        },
        "id": "44Zoiw0x261y",
        "outputId": "57eb675b-3d66-4b2b-e446-5cef44e75433"
      },
      "execution_count": null,
      "outputs": [
        {
          "output_type": "execute_result",
          "data": {
            "text/plain": [
              "'Matheus'"
            ],
            "application/vnd.google.colaboratory.intrinsic+json": {
              "type": "string"
            }
          },
          "metadata": {},
          "execution_count": 7
        }
      ]
    },
    {
      "cell_type": "code",
      "source": [
        "p1.setNome('Eduardo')"
      ],
      "metadata": {
        "id": "FlFWSZ1n29im"
      },
      "execution_count": null,
      "outputs": []
    },
    {
      "cell_type": "code",
      "source": [
        "p1.getNome()"
      ],
      "metadata": {
        "colab": {
          "base_uri": "https://localhost:8080/",
          "height": 35
        },
        "id": "Kmry_F3b3A82",
        "outputId": "31e40fcb-bc92-4674-dd41-161eaed86477"
      },
      "execution_count": null,
      "outputs": [
        {
          "output_type": "execute_result",
          "data": {
            "text/plain": [
              "'Eduardo'"
            ],
            "application/vnd.google.colaboratory.intrinsic+json": {
              "type": "string"
            }
          },
          "metadata": {},
          "execution_count": 9
        }
      ]
    },
    {
      "cell_type": "markdown",
      "source": [
        "##1.2 <br>\n",
        "• Modifique a classe Pessoa para incluir um atributo privado idade. <br>\n",
        "• Crie métodos para definir a idade, mas verifique se a idade é um valor\n",
        "válido (por exemplo, maior ou igual a 0)."
      ],
      "metadata": {
        "id": "5O4Uf3u9Ho-9"
      }
    },
    {
      "cell_type": "code",
      "source": [
        "def verifica(valor):\n",
        "  if valor > 0 and valor <= 110:\n",
        "    return valor\n",
        "  else:\n",
        "    valor = int(input('Digite um valor maior que 0 e menor ou igual que 110:\\n'))\n",
        "    return valor\n",
        "\n",
        "class Pessoa():\n",
        "  def __init__(self, nome, idade):\n",
        "    self.__nome = nome\n",
        "    self.__idade = verifica(idade)\n",
        "\n",
        "  def getNome(self):\n",
        "    return self.__nome\n",
        "\n",
        "  def setNome(self, novo):\n",
        "    self.__nome = novo\n",
        "    return\n",
        "\n",
        "  def getIdade(self):\n",
        "    return self.__idade\n",
        "\n",
        "  def setIdade(self, nova):\n",
        "    self.__idade = verifica(nova)\n",
        "    return"
      ],
      "metadata": {
        "id": "NkKTWTMa3J37"
      },
      "execution_count": null,
      "outputs": []
    },
    {
      "cell_type": "code",
      "source": [
        "p2 = Pessoa('João', 0)"
      ],
      "metadata": {
        "colab": {
          "base_uri": "https://localhost:8080/"
        },
        "id": "5HY1DJqe4Zwe",
        "outputId": "44a8f346-d562-409c-ac3b-a18f1a8cc3c3"
      },
      "execution_count": null,
      "outputs": [
        {
          "name": "stdout",
          "output_type": "stream",
          "text": [
            "Digite um valor maior que 0 e menor ou igual que 110:\n",
            "15\n"
          ]
        }
      ]
    },
    {
      "cell_type": "code",
      "source": [
        "p2.getIdade()"
      ],
      "metadata": {
        "colab": {
          "base_uri": "https://localhost:8080/"
        },
        "id": "iCJXMSR04d-G",
        "outputId": "2525ddb3-f58b-4a31-feab-fc92b0cc93b5"
      },
      "execution_count": null,
      "outputs": [
        {
          "output_type": "execute_result",
          "data": {
            "text/plain": [
              "15"
            ]
          },
          "metadata": {},
          "execution_count": 37
        }
      ]
    },
    {
      "cell_type": "code",
      "source": [
        "p2.setIdade(200)"
      ],
      "metadata": {
        "colab": {
          "base_uri": "https://localhost:8080/"
        },
        "id": "NJnNDP6H4h3f",
        "outputId": "28dcc7f9-fed2-445b-ba12-276bdb6dab63"
      },
      "execution_count": null,
      "outputs": [
        {
          "name": "stdout",
          "output_type": "stream",
          "text": [
            "Digite um valor maior que 0 e menor ou igual que 110:\n",
            "24\n"
          ]
        }
      ]
    },
    {
      "cell_type": "code",
      "source": [
        "p2.getIdade()"
      ],
      "metadata": {
        "colab": {
          "base_uri": "https://localhost:8080/"
        },
        "id": "fPwzL6Dz47On",
        "outputId": "be3c443d-2246-474b-f086-c19799242fce"
      },
      "execution_count": null,
      "outputs": [
        {
          "output_type": "execute_result",
          "data": {
            "text/plain": [
              "24"
            ]
          },
          "metadata": {},
          "execution_count": 39
        }
      ]
    },
    {
      "cell_type": "markdown",
      "source": [
        "#Exercício 2: <br>\n",
        "##2.1\n",
        "1. Crie uma classe Circulo com um atributo privado raio. Implemente\n",
        "métodos para definir e obter o raio e para calcular a área do círculo. <br>\n",
        "2. Modifique a classe Circulo para incluir um atributo privado cor.\n",
        "Crie métodos para definir a cor e obter a cor do círculo. <br>\n",
        "3. Crie uma classe Retangulo com atributos privados largura e altura. <br>\n",
        "Implemente métodos para definir e obter a largura e altura, e para calcular a área do retângulo.<br>\n",
        "\n",
        "4. Crie uma classe Quadrado que herda da classe Retângulo. Modifique a\n",
        "classe Quadrado para que, ao definir a largura ou altura, ambos sejam\n",
        "definidos com o mesmo valor (pois um quadrado tem lados iguais).\n",
        "<br>\n"
      ],
      "metadata": {
        "id": "8EGXtWCj8kAK"
      }
    },
    {
      "cell_type": "code",
      "source": [
        "class Circulo():\n",
        "  def __init__(self, raio):\n",
        "    self.__raio = raio\n",
        "\n",
        "  def getRaio(self):\n",
        "    return self.__raio\n",
        "\n",
        "  def setRaio(self, novo):\n",
        "    self.__raio = novo\n",
        "    return\n",
        "\n",
        "  def areaCirculo(self):\n",
        "    #pi.r²\n",
        "    return 3.14*(self.getRaio()**2)\n"
      ],
      "metadata": {
        "id": "gS7jz_726ql1"
      },
      "execution_count": null,
      "outputs": []
    },
    {
      "cell_type": "code",
      "source": [
        "c1 = Circulo(10)"
      ],
      "metadata": {
        "id": "5uzvCCGKAZMJ"
      },
      "execution_count": null,
      "outputs": []
    },
    {
      "cell_type": "code",
      "source": [
        "c1.getRaio()"
      ],
      "metadata": {
        "colab": {
          "base_uri": "https://localhost:8080/"
        },
        "id": "vdXuseT4AdV2",
        "outputId": "edb02421-e127-41b6-87dc-2b28398de01a"
      },
      "execution_count": null,
      "outputs": [
        {
          "output_type": "execute_result",
          "data": {
            "text/plain": [
              "10"
            ]
          },
          "metadata": {},
          "execution_count": 50
        }
      ]
    },
    {
      "cell_type": "code",
      "source": [
        "c1.setRaio(1)"
      ],
      "metadata": {
        "id": "Urt6CFlBAfBa"
      },
      "execution_count": null,
      "outputs": []
    },
    {
      "cell_type": "code",
      "source": [
        "c1.getRaio()"
      ],
      "metadata": {
        "colab": {
          "base_uri": "https://localhost:8080/"
        },
        "id": "SCYQqMbqAhJo",
        "outputId": "e337a900-b6d3-4bb2-c239-fd4819b30b62"
      },
      "execution_count": null,
      "outputs": [
        {
          "output_type": "execute_result",
          "data": {
            "text/plain": [
              "1"
            ]
          },
          "metadata": {},
          "execution_count": 52
        }
      ]
    },
    {
      "cell_type": "code",
      "source": [
        "c1.areaCirculo()"
      ],
      "metadata": {
        "colab": {
          "base_uri": "https://localhost:8080/"
        },
        "id": "iBN2pKrrAlS2",
        "outputId": "8a336aec-a5e3-4529-8cd7-4a9d95d2a36a"
      },
      "execution_count": null,
      "outputs": [
        {
          "output_type": "execute_result",
          "data": {
            "text/plain": [
              "3.14"
            ]
          },
          "metadata": {},
          "execution_count": 53
        }
      ]
    },
    {
      "cell_type": "code",
      "source": [
        "c1.setRaio(10)"
      ],
      "metadata": {
        "id": "1NFWldrAAs0L"
      },
      "execution_count": null,
      "outputs": []
    },
    {
      "cell_type": "code",
      "source": [
        "c1.areaCirculo()"
      ],
      "metadata": {
        "colab": {
          "base_uri": "https://localhost:8080/"
        },
        "id": "WbWb3tu3Av35",
        "outputId": "39e64c19-3eb0-4114-e120-e745207be70f"
      },
      "execution_count": null,
      "outputs": [
        {
          "output_type": "execute_result",
          "data": {
            "text/plain": [
              "314.0"
            ]
          },
          "metadata": {},
          "execution_count": 55
        }
      ]
    },
    {
      "cell_type": "code",
      "source": [
        "class Circulo():\n",
        "  def __init__(self, raio, cor):\n",
        "    self.__raio = raio\n",
        "    self.__cor = cor\n",
        "\n",
        "  def getRaio(self):\n",
        "    return self.__raio\n",
        "\n",
        "  def setRaio(self, novo):\n",
        "    self.__raio = novo\n",
        "    return\n",
        "\n",
        "  def areaCirculo(self):\n",
        "    #pi.r²\n",
        "    return 3.1415*(self.getRaio()**2)\n",
        "\n",
        "  def getCor(self):\n",
        "    return self.__cor\n",
        "\n",
        "  def setCor(self, nova):\n",
        "    self.__cor = nova\n",
        "    return\n"
      ],
      "metadata": {
        "id": "71F6bxVfAxWw"
      },
      "execution_count": null,
      "outputs": []
    },
    {
      "cell_type": "code",
      "source": [
        "c2 = Circulo(5, 'vermelho')"
      ],
      "metadata": {
        "id": "qDPhea2TCLu4"
      },
      "execution_count": null,
      "outputs": []
    },
    {
      "cell_type": "code",
      "source": [
        "c2.getCor()"
      ],
      "metadata": {
        "colab": {
          "base_uri": "https://localhost:8080/",
          "height": 35
        },
        "id": "44tECL2DCPYN",
        "outputId": "708c77fa-2d4a-4629-d7ee-c4dbfd9b9ddc"
      },
      "execution_count": null,
      "outputs": [
        {
          "output_type": "execute_result",
          "data": {
            "text/plain": [
              "'vermelho'"
            ],
            "application/vnd.google.colaboratory.intrinsic+json": {
              "type": "string"
            }
          },
          "metadata": {},
          "execution_count": 63
        }
      ]
    },
    {
      "cell_type": "code",
      "source": [
        "c2.getRaio()"
      ],
      "metadata": {
        "colab": {
          "base_uri": "https://localhost:8080/"
        },
        "id": "0nsdIYAlCRD4",
        "outputId": "2db151cc-f8b7-4db2-dd73-31b3d23cd85c"
      },
      "execution_count": null,
      "outputs": [
        {
          "output_type": "execute_result",
          "data": {
            "text/plain": [
              "5"
            ]
          },
          "metadata": {},
          "execution_count": 64
        }
      ]
    },
    {
      "cell_type": "code",
      "source": [
        "c2.areaCirculo()"
      ],
      "metadata": {
        "colab": {
          "base_uri": "https://localhost:8080/"
        },
        "id": "uQGPoILDCTOk",
        "outputId": "e848ebae-3c4b-4884-e055-4779a9f15aaf"
      },
      "execution_count": null,
      "outputs": [
        {
          "output_type": "execute_result",
          "data": {
            "text/plain": [
              "78.53750000000001"
            ]
          },
          "metadata": {},
          "execution_count": 65
        }
      ]
    },
    {
      "cell_type": "code",
      "source": [
        "#Retangulo\n",
        "class Retangulo():\n",
        "  def __init__(self, altura, largura):\n",
        "    self.__altura = altura\n",
        "    self.__largura = largura\n",
        "\n",
        "  def getAlt(self):\n",
        "    return self.__altura\n",
        "\n",
        "  def setAlt(self, nova):\n",
        "    self.__altura = nova\n",
        "\n",
        "  def getLarg(self):\n",
        "    return self.__largura\n",
        "\n",
        "  def setLarg(self, nova):\n",
        "    self.__largura = nova\n",
        "\n",
        "  def calcArea(self):\n",
        "    alt = self.getAlt()\n",
        "    larg = self.getLarg()\n",
        "    area = alt * larg\n",
        "    return area\n"
      ],
      "metadata": {
        "id": "0NUymDZICUk3"
      },
      "execution_count": null,
      "outputs": []
    },
    {
      "cell_type": "code",
      "source": [
        "r1 = Retangulo(2,2)"
      ],
      "metadata": {
        "id": "VUPPHTyjDeX4"
      },
      "execution_count": null,
      "outputs": []
    },
    {
      "cell_type": "code",
      "source": [
        "r1.calcArea()"
      ],
      "metadata": {
        "colab": {
          "base_uri": "https://localhost:8080/"
        },
        "id": "0-hSbwiHDlB5",
        "outputId": "d7fe3ac1-47ec-4698-fd8a-229d4e28ec68"
      },
      "execution_count": null,
      "outputs": [
        {
          "output_type": "execute_result",
          "data": {
            "text/plain": [
              "4"
            ]
          },
          "metadata": {},
          "execution_count": 68
        }
      ]
    },
    {
      "cell_type": "code",
      "source": [
        "#quadrado\n",
        "class Quadrado(Retangulo):\n",
        "  def __init__(self, alt):\n",
        "    Retangulo.__init__(self, alt, alt)\n",
        "\n",
        "  def setLado(self, lado):\n",
        "    self.setAlt(lado)\n",
        "    self.setLarg(lado)\n",
        "\n",
        "  def calcArea(self):\n",
        "    return self.getAlt()*self.getLarg()"
      ],
      "metadata": {
        "id": "qeAKmgYADnbA"
      },
      "execution_count": null,
      "outputs": []
    },
    {
      "cell_type": "code",
      "source": [
        "q1 = Quadrado(2)"
      ],
      "metadata": {
        "id": "aksDJFHIFbsl"
      },
      "execution_count": null,
      "outputs": []
    },
    {
      "cell_type": "code",
      "source": [
        "q1.getLarg()"
      ],
      "metadata": {
        "colab": {
          "base_uri": "https://localhost:8080/"
        },
        "id": "GJVjV8aMFxdj",
        "outputId": "9815ab6e-6c53-4740-cb62-2eba55a25ab0"
      },
      "execution_count": null,
      "outputs": [
        {
          "output_type": "execute_result",
          "data": {
            "text/plain": [
              "2"
            ]
          },
          "metadata": {},
          "execution_count": 99
        }
      ]
    },
    {
      "cell_type": "code",
      "source": [
        "q1.getAlt()"
      ],
      "metadata": {
        "colab": {
          "base_uri": "https://localhost:8080/"
        },
        "id": "9oCk-fO7F0h1",
        "outputId": "d54e8e91-c51c-4c84-e71e-fee2f265d7d5"
      },
      "execution_count": null,
      "outputs": [
        {
          "output_type": "execute_result",
          "data": {
            "text/plain": [
              "2"
            ]
          },
          "metadata": {},
          "execution_count": 100
        }
      ]
    },
    {
      "cell_type": "code",
      "source": [
        "q1.calcArea()"
      ],
      "metadata": {
        "colab": {
          "base_uri": "https://localhost:8080/"
        },
        "id": "SEZD5rhbF3LR",
        "outputId": "471facd6-4ac6-48f7-d809-4bb36dfa0f28"
      },
      "execution_count": null,
      "outputs": [
        {
          "output_type": "execute_result",
          "data": {
            "text/plain": [
              "4"
            ]
          },
          "metadata": {},
          "execution_count": 101
        }
      ]
    },
    {
      "cell_type": "code",
      "source": [
        "q1.setLado(5)"
      ],
      "metadata": {
        "id": "RIP3XyhpF5Zw"
      },
      "execution_count": null,
      "outputs": []
    },
    {
      "cell_type": "code",
      "source": [
        "q1.getLarg()"
      ],
      "metadata": {
        "colab": {
          "base_uri": "https://localhost:8080/"
        },
        "id": "PD4PW26NGC8J",
        "outputId": "ae9f8a67-659c-4c27-8f9c-154a21a22421"
      },
      "execution_count": null,
      "outputs": [
        {
          "output_type": "execute_result",
          "data": {
            "text/plain": [
              "5"
            ]
          },
          "metadata": {},
          "execution_count": 103
        }
      ]
    },
    {
      "cell_type": "code",
      "source": [
        "q1.getAlt()"
      ],
      "metadata": {
        "colab": {
          "base_uri": "https://localhost:8080/"
        },
        "id": "BtPVrgX5GF1o",
        "outputId": "bf8200a6-f100-46f5-cd86-cb3c15374c8d"
      },
      "execution_count": null,
      "outputs": [
        {
          "output_type": "execute_result",
          "data": {
            "text/plain": [
              "5"
            ]
          },
          "metadata": {},
          "execution_count": 104
        }
      ]
    },
    {
      "cell_type": "code",
      "source": [
        "q1.calcArea()"
      ],
      "metadata": {
        "colab": {
          "base_uri": "https://localhost:8080/"
        },
        "id": "UEK9r78yGtbq",
        "outputId": "ded4a763-d198-4090-b222-f61e1481f943"
      },
      "execution_count": null,
      "outputs": [
        {
          "output_type": "execute_result",
          "data": {
            "text/plain": [
              "25"
            ]
          },
          "metadata": {},
          "execution_count": 105
        }
      ]
    },
    {
      "cell_type": "markdown",
      "source": [
        "\n",
        "##2.2\n",
        "1. Crie uma classe ContaBancaria com atributos privados para o número\n",
        "da conta (__numero_conta) e o saldo (__saldo). Implemente métodos\n",
        "para depositar, sacar e obter o saldo da conta. <br>\n",
        "\n",
        "2. Crie uma classe ContaCorrente que herda de ContaBancaria. Adicione um atributo privado __limite_cheque_especial. Modifique o método de saque para permitir saques dentro do limite do cheque especial, caso o saldo não seja suficiente."
      ],
      "metadata": {
        "id": "p1UVGdcNHcu8"
      }
    },
    {
      "cell_type": "code",
      "source": [
        "class ContaBancaria():\n",
        "  def __init__(self, num_conta, saldo):\n",
        "    self.__num_conta = num_conta\n",
        "    self.__saldo = saldo\n",
        "\n",
        "  def getSaldo(self):\n",
        "    return self.__saldo\n",
        "\n",
        "  def setSaldo(self, valor):\n",
        "    self.__saldo = valor\n",
        "    return\n",
        "\n",
        "  def depositar(self, valor):\n",
        "    self.__saldo += valor\n",
        "\n",
        "  def sacar(self, valor):\n",
        "    if (self.__saldo - valor) >= 0:\n",
        "      self.__saldo -= valor\n",
        "      return\n",
        "    else:\n",
        "      print(f'Valor não aceito! Saldo disponivel: {self.getSaldo()}')"
      ],
      "metadata": {
        "id": "gmmwr3YiIcZM"
      },
      "execution_count": null,
      "outputs": []
    },
    {
      "cell_type": "code",
      "source": [
        "c = ContaBancaria(1223, 2.500)"
      ],
      "metadata": {
        "id": "Sty1I6RxLCpR"
      },
      "execution_count": null,
      "outputs": []
    },
    {
      "cell_type": "code",
      "source": [
        "c.depositar(0.400)"
      ],
      "metadata": {
        "id": "GynFPNmRLM1g"
      },
      "execution_count": null,
      "outputs": []
    },
    {
      "cell_type": "code",
      "source": [
        "c.getSaldo()"
      ],
      "metadata": {
        "colab": {
          "base_uri": "https://localhost:8080/"
        },
        "id": "uwgr-tqOLTn3",
        "outputId": "9d9ae240-ad05-42ff-97c6-f704647a2034"
      },
      "execution_count": null,
      "outputs": [
        {
          "output_type": "execute_result",
          "data": {
            "text/plain": [
              "2.9"
            ]
          },
          "metadata": {},
          "execution_count": 173
        }
      ]
    },
    {
      "cell_type": "code",
      "source": [
        "c.sacar(3)"
      ],
      "metadata": {
        "colab": {
          "base_uri": "https://localhost:8080/"
        },
        "id": "mlOvZHe5LVm-",
        "outputId": "77751d18-fb64-4824-e4c9-3d428e020f86"
      },
      "execution_count": null,
      "outputs": [
        {
          "output_type": "stream",
          "name": "stdout",
          "text": [
            "Valor não aceito! Saldo disponivel: 2.9\n"
          ]
        }
      ]
    },
    {
      "cell_type": "code",
      "source": [
        "c.sacar(1.5)"
      ],
      "metadata": {
        "id": "rkiZFM4xLZVd"
      },
      "execution_count": null,
      "outputs": []
    },
    {
      "cell_type": "code",
      "source": [
        "c.getSaldo()"
      ],
      "metadata": {
        "colab": {
          "base_uri": "https://localhost:8080/"
        },
        "id": "SMxtUwgULgpA",
        "outputId": "2a56f4ee-407a-4dc5-c28f-ad99e7f8bd06"
      },
      "execution_count": null,
      "outputs": [
        {
          "output_type": "execute_result",
          "data": {
            "text/plain": [
              "1.4"
            ]
          },
          "metadata": {},
          "execution_count": 176
        }
      ]
    },
    {
      "cell_type": "code",
      "source": [
        "#Adicione um atributo privado __limite_cheque_especial. Modifique o método de\n",
        "#saque para permitir saques dentro do limite do cheque especial,\n",
        "#caso o saldo não seja suficiente.\n",
        "\n",
        "class ContaCorrente(ContaBancaria):\n",
        "  def __init__(self, num_conta, saldo, limite_cheq_especial):\n",
        "    ContaBancaria.__init__(self, num_conta, saldo)\n",
        "    self.__limite_cheque_especial = limite_cheq_especial\n",
        "\n",
        "  def getLimite(self):\n",
        "    return self.__limite_cheque_especial\n",
        "\n",
        "  def setLimite(self, valor):\n",
        "    self.__limite_cheque_especial = valor\n",
        "    return\n",
        "\n",
        "\n",
        "  def sacar(self, valor):\n",
        "    disponivel = self.getSaldo() + self.getLimite()\n",
        "    if valor <= disponivel:\n",
        "      x = (self.getSaldo() - valor)\n",
        "      if x <= 0:\n",
        "        self.setSaldo(0)\n",
        "        z = (self.getLimite() + x)\n",
        "        self.setLimite(z)\n",
        "        return\n",
        "      else:\n",
        "        self.setSaldo(x)\n",
        "        return\n",
        "    else:\n",
        "      print(f'''Cheque especial insuficiente.\n",
        "      Valor do saque: {valor}\n",
        "      Valor de saldo: {self.getSaldo()}\n",
        "      Valor de saldo do cheque especial: {self.getLimite()}\n",
        "      Valor total disponivel para saque: {disponivel}''')\n"
      ],
      "metadata": {
        "id": "cLRQRJKHLiHC"
      },
      "execution_count": null,
      "outputs": []
    },
    {
      "cell_type": "code",
      "source": [
        "cc1 = ContaCorrente(1212, 1.5, 0.5)"
      ],
      "metadata": {
        "id": "feLfVdgRN6Ef"
      },
      "execution_count": null,
      "outputs": []
    },
    {
      "cell_type": "code",
      "source": [
        "cc1.sacar(3)"
      ],
      "metadata": {
        "colab": {
          "base_uri": "https://localhost:8080/"
        },
        "id": "Qq69UvAZN76K",
        "outputId": "59b1fe3c-c114-4dce-945f-50d83ac69152"
      },
      "execution_count": null,
      "outputs": [
        {
          "output_type": "stream",
          "name": "stdout",
          "text": [
            "Cheque especial insuficiente. \n",
            "      Valor do saque: 3\n",
            "      Valor de saldo: 1.5\n",
            "      Valor de saldo do cheque especial: 0.5\n",
            "      Valor total disponivel para saque: 2.0\n"
          ]
        }
      ]
    },
    {
      "cell_type": "code",
      "source": [
        "cc1.sacar(1.8)"
      ],
      "metadata": {
        "id": "lhCGuG2ORsfy"
      },
      "execution_count": null,
      "outputs": []
    },
    {
      "cell_type": "code",
      "source": [
        "cc1.getSaldo()"
      ],
      "metadata": {
        "colab": {
          "base_uri": "https://localhost:8080/"
        },
        "id": "CL-m9rdXR6ER",
        "outputId": "22339855-85e7-4201-835b-8efe8c788f11"
      },
      "execution_count": null,
      "outputs": [
        {
          "output_type": "execute_result",
          "data": {
            "text/plain": [
              "0"
            ]
          },
          "metadata": {},
          "execution_count": 191
        }
      ]
    },
    {
      "cell_type": "code",
      "source": [
        "cc1.getLimite()"
      ],
      "metadata": {
        "colab": {
          "base_uri": "https://localhost:8080/"
        },
        "id": "xF1f-kPESc3I",
        "outputId": "e4dcdf34-8a56-4e8a-a11c-0e53151e2be8"
      },
      "execution_count": null,
      "outputs": [
        {
          "output_type": "execute_result",
          "data": {
            "text/plain": [
              "0.19999999999999996"
            ]
          },
          "metadata": {},
          "execution_count": 192
        }
      ]
    },
    {
      "cell_type": "code",
      "source": [
        "\\\\\\\\\\\\\\\\\\\\\\\\\\\\\\\\\\\\\\\\\\\\\\\\\\\\\\\\\\\\\\\\\\\\\\\\\\\\\\\\\\\\\\\\\\\\\\\\\\\\\\\\\\\\\\\\\\\\\\\\\\\\\\\\\\\\\\\\\\\\\\\\\\\\\\\\\\\\\\\\\\\\\\\\\\\\\\\\\\\\\\\\\\\\\\\\\\\\\\\\\\\\\\\\\\\\\\\\\\\\\\\\\\\\\\\\\\\\\\\\\\\\\\\\\\\\\\\\\\\\\\\\\\\\\\\\\\\\\\\\\\\\\\\\\\\\\\\\\\\\\\\\\\\\\\\\\\\\\\\\\\\\\\\\\\\\\\\\\\\\\\\\\\\\\\\\\\\\\\\\\\\\\\\\\\\\"
      ],
      "metadata": {
        "id": "tMrilW_iWLb9"
      },
      "execution_count": null,
      "outputs": []
    }
  ]
}