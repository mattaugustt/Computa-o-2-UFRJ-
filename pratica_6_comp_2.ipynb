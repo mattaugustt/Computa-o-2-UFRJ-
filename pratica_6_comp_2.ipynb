{
  "nbformat": 4,
  "nbformat_minor": 0,
  "metadata": {
    "colab": {
      "provenance": [],
      "authorship_tag": "ABX9TyP2hhiZ33VU+i0A7C8x4MSK",
      "include_colab_link": true
    },
    "kernelspec": {
      "name": "python3",
      "display_name": "Python 3"
    },
    "language_info": {
      "name": "python"
    }
  },
  "cells": [
    {
      "cell_type": "markdown",
      "metadata": {
        "id": "view-in-github",
        "colab_type": "text"
      },
      "source": [
        "<a href=\"https://colab.research.google.com/github/mattaugustt/Computa-o-2-UFRJ-/blob/main/pratica_6_comp_2.ipynb\" target=\"_parent\"><img src=\"https://colab.research.google.com/assets/colab-badge.svg\" alt=\"Open In Colab\"/></a>"
      ]
    },
    {
      "cell_type": "markdown",
      "source": [
        "#Nome: <br>\n",
        "Matheus Augusto de Souza\n",
        "<br><br>\n",
        "\n",
        "\n",
        "#DRE: <br>\n",
        "118164136\n",
        "<br>"
      ],
      "metadata": {
        "id": "5u9-8q5aRPik"
      }
    },
    {
      "cell_type": "markdown",
      "source": [
        "#Exercício 1. <br>\n",
        "Temos um arquivo texto no qual cada linha contém os seguintes dados de uma pessoa: seu nome, o ano de nascimento, seu peso na Terra e seu desejo de ir para Marte ou para Júpiter. Por exemplo, uma linha no arquivo seria:\n",
        "\n",
        "<br>\n",
        "\n",
        "Matheus Augusto, 1970, 84, Marte\n",
        "\n",
        "<br>\n",
        "\n",
        "Implemente um programa em Python para ler os dados no arquivo texto. Armazene em um novo arquivo (marte.txt) o nome das pessoas com menos de 30 anos que desejam ir para Marte e o peso que a pessoa teria por lá. <br>\n",
        "\n",
        "Em outro arquivo (jupiter.txt) armazene o nome das pessoas com 30 anos ou mais que desejam ir para Júpiter e peso da pessoa em Júpiter. <br>\n",
        "\n",
        "Sabe-se que uma pessoa com peso 100 na Terra pesa 38 em Marte e 264 em Júpiter. <br>\n",
        "Para testar seu programa, você deve criar um arquivo texto no formato especificado no início deste exercício."
      ],
      "metadata": {
        "id": "RIYsg4VPvMoz"
      }
    },
    {
      "cell_type": "code",
      "execution_count": null,
      "metadata": {
        "id": "ETxHPFZVue6c"
      },
      "outputs": [],
      "source": [
        "def planetas(nome):\n",
        "  \"\"\"função que recebe um arquivo e o separa.\n",
        "  file -> file, file\"\"\"\n",
        "  arquivo = open(nome, 'r')\n",
        "  marte = open('marte.txt', 'w')\n",
        "  jupter = open('jupter.txt', 'w')\n",
        "  linhas = arquivo.readlines()\n",
        "  for i in linhas:\n",
        "    z = i.replace(',', '')\n",
        "    x = z.split()\n",
        "    ano = int(x[2])\n",
        "    if (2023 - ano) < 30 and x[4] == 'Marte':\n",
        "      x = f'{x[0]} {x[1]}, {(int(x[3]) * 38) / 100}\\n'\n",
        "      marte.write(x)\n",
        "\n",
        "    elif (2023 - ano) >= 30 and x[4] == 'Jupter':\n",
        "      x = f'{x[0]} {x[1]}, {(int(x[3]) * 264) / 100}\\n'\n",
        "      jupter.write(x)\n",
        "\n",
        "  arquivo.close()\n",
        "  marte.close()\n",
        "  jupter.close()\n",
        "  return\n",
        "\n"
      ]
    },
    {
      "cell_type": "markdown",
      "source": [
        "Utilizar como teste: <br>\n",
        "Matheus Augusto, 1999, 85, Marte <br>\n",
        "Joao Carlos, 1919, 85, Jupter <br>\n",
        "Matheus Roberto, 1899, 95, Jupter <br>\n",
        "Andre Souza, 1999, 65, Marte <br>\n",
        "Luiz Eduardo, 1989, 115, Marte <br>\n",
        "Bruna Carla, 1899, 85, Jupter"
      ],
      "metadata": {
        "id": "12pY7ulfD-rJ"
      }
    },
    {
      "cell_type": "markdown",
      "source": [
        "#Exercício 2. <br>\n",
        "Implemente um programa contendo uma função, que recebe como argumentos os nomes de dois arquivos. O primeiro arquivo (alunos.txt) contém nomes de alunos e o segundo arquivo (notas.txt) contém as notas dos alunos. As notas são reais e utilizam o ponto (.) como separador decimal. <br>\n",
        "\n",
        "No primeiro arquivo, cada linha corresponde ao nome de um aluno e no segundo arquivo, cada linha corresponde as notas dos alunos (duas notas por aluno), na mesma ordem.  <br>\n",
        "\n",
        "Assuma que as notas de cada aluno estão separadas, uma da outra, por uma vírgula. Crie um terceiro arquivo (media.txt) que deve conter o nome e a\n",
        "média de cada aluno, separados por espaço. Cada aluno deve ocupar uma linha do arquivo."
      ],
      "metadata": {
        "id": "ctVPsV99wHX2"
      }
    },
    {
      "cell_type": "code",
      "source": [
        "def alunos_nota(alunos, notas):\n",
        "  alunos1 = open(alunos, 'r')\n",
        "  notas1 = open(notas, 'r')\n",
        "  notas_alunos = open('notas_alunos.txt', 'w')\n",
        "  todos_alunos = alunos1.readlines()\n",
        "  todas_notas = notas1.readlines()\n",
        "  for i in range(0,len(todas_notas)):\n",
        "    nota = todas_notas[i].replace(',','')\n",
        "    z = nota.split()\n",
        "    nota1 = float(z[0])\n",
        "    nota2 = float(z[1])\n",
        "    media = (nota1 + nota2)/2\n",
        "    nome = todos_alunos[i].strip()\n",
        "    x = f'{nome} {media}\\n'\n",
        "    notas_alunos.write(x)\n",
        "  return"
      ],
      "metadata": {
        "id": "IfzLjCaLwVq1"
      },
      "execution_count": null,
      "outputs": []
    },
    {
      "cell_type": "markdown",
      "source": [
        "Testar com: <br>\n",
        "Alunos: <br>\n",
        "Matheus Augusto <br>\n",
        "Joao Carlos <br>\n",
        "Matheus Roberto <br>\n",
        "Andre Souza <br>\n",
        "Luiz Eduardo <br>\n",
        "Bruna Carla<br>\n",
        "<br>\n",
        "\n",
        "Notas: <br>\n",
        "5.6, 8 <br>\n",
        "2.5, 9 <br>\n",
        "10, 10 <br>\n",
        "5.6, 6.5 <br>\n",
        "5, 5 <br>\n",
        "8, 7 <br>\n"
      ],
      "metadata": {
        "id": "vFnJo0y1M5Xg"
      }
    },
    {
      "cell_type": "markdown",
      "source": [
        "#Exercício 3. <br>\n",
        "Leia o arquivo media.txt produzido no Exercício 2 e imprima na tela o nome, a média final e a situação de cada aluno. Considere que o aluno com média maior ou igual a 6.0 foi aprovado. Deve ser impresso um aluno por linha, de acordo com o exemplo abaixo: <br>\n",
        "\n",
        "Harley Queen | 8.5 | APROVADO <br>\n",
        "Clarck Kent | 5.3 | REPROVADO\n"
      ],
      "metadata": {
        "id": "Msf1e_szw4a8"
      }
    },
    {
      "cell_type": "code",
      "source": [
        "def situacao_aluno(media):\n",
        "  media_alunos = open(media, 'r')\n",
        "  linhas = media_alunos.readlines()\n",
        "  for i in linhas:\n",
        "    x = i.split()\n",
        "    if float(x[2]) >= 6:\n",
        "      print(f'{x[0]} {x[1]} | {x[2]} | APROVADO')\n",
        "    else:\n",
        "      print(f'{x[0]} {x[1]} | {x[2]} | REPROVADO')"
      ],
      "metadata": {
        "id": "1aivmlLEw38E"
      },
      "execution_count": null,
      "outputs": []
    },
    {
      "cell_type": "markdown",
      "source": [
        "#Exercício 4.  <br>\n",
        "Faça um programa que recebe o nome de um arquivo e conta quantas palavras existem nesse arquivo. Considere que uma palavra é separada de outra por pelo menos um espaço em branco ou um final de linha. Seu programa deve retornar o número inteiro correspondente a quantidade de palavras do arquivo. <br>\n",
        "\n",
        "<b>Atenção!</b><br>\n",
        "Lembre-se, e considere, que podem existir palavras separadas por dois ou mais espaços devido a digitação incorreta."
      ],
      "metadata": {
        "id": "WHma-wVsx0SB"
      }
    },
    {
      "cell_type": "code",
      "source": [
        "def conta_palavras(arq):\n",
        "  arquivo = open(arq, 'r')\n",
        "  linhas = arquivo.readlines()\n",
        "  total = 0\n",
        "  for i in linhas:\n",
        "    x = i.rstrip()\n",
        "    y = x.split()\n",
        "    tamanho = len(y)\n",
        "    total += tamanho\n",
        "  return total"
      ],
      "metadata": {
        "id": "GsRQV25wyaom"
      },
      "execution_count": null,
      "outputs": []
    }
  ]
}