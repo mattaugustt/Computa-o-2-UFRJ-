{
  "nbformat": 4,
  "nbformat_minor": 0,
  "metadata": {
    "colab": {
      "provenance": [],
      "authorship_tag": "ABX9TyMaRQmbXDh8YhKvyEaXd8gz",
      "include_colab_link": true
    },
    "kernelspec": {
      "name": "python3",
      "display_name": "Python 3"
    },
    "language_info": {
      "name": "python"
    }
  },
  "cells": [
    {
      "cell_type": "markdown",
      "metadata": {
        "id": "view-in-github",
        "colab_type": "text"
      },
      "source": [
        "<a href=\"https://colab.research.google.com/github/mattaugustt/Computa-o-2-UFRJ-/blob/main/Pratica_7_comp_2.ipynb\" target=\"_parent\"><img src=\"https://colab.research.google.com/assets/colab-badge.svg\" alt=\"Open In Colab\"/></a>"
      ]
    },
    {
      "cell_type": "markdown",
      "source": [
        "##Nome: <br>\n",
        "Matheus Augusto de Souza. <br>\n",
        "<br>\n",
        "##DRE: <br>\n",
        "118164136\n"
      ],
      "metadata": {
        "id": "KaRn3T4O0gpf"
      }
    },
    {
      "cell_type": "code",
      "execution_count": null,
      "metadata": {
        "id": "KzeOMsJhvjVt"
      },
      "outputs": [],
      "source": [
        "import numpy as np"
      ]
    },
    {
      "cell_type": "markdown",
      "source": [
        "#1 - Vamos resolver o seguinte sistema de equações lineares utilizando o método de eliminação gaussiana e a biblioteca NumPy: <br>\n",
        "2x + y - z = 8 <br>\n",
        "-3x - y + 2 = -11 <br>\n",
        "-2x + y + 2z = -3\n"
      ],
      "metadata": {
        "id": "1sTChjq501_a"
      }
    },
    {
      "cell_type": "code",
      "source": [
        "#montando a matriz:\n",
        "linha1 = [2,1,-1,8]\n",
        "linha2 = [-3,-1,2,-11]\n",
        "linha3 = [-2,1,2,-3]\n",
        "x = np.array([linha1, linha2, linha3])\n",
        "x\n",
        "#linha 1 = x[0]\n",
        "#linha 2 = x[1]\n",
        "#linha 3 = x[2]"
      ],
      "metadata": {
        "colab": {
          "base_uri": "https://localhost:8080/"
        },
        "id": "l3AeYjUB2Fq3",
        "outputId": "89569ced-90de-4503-8af7-70db75bbf21f"
      },
      "execution_count": null,
      "outputs": [
        {
          "output_type": "execute_result",
          "data": {
            "text/plain": [
              "array([[  2,   1,  -1,   8],\n",
              "       [ -3,  -1,   2, -11],\n",
              "       [ -2,   1,   2,  -3]])"
            ]
          },
          "metadata": {},
          "execution_count": 2
        }
      ]
    },
    {
      "cell_type": "markdown",
      "source": [
        "a) Linha2 = Linha2 + 3/2.Linha1"
      ],
      "metadata": {
        "id": "sLh-QRyFF67n"
      }
    },
    {
      "cell_type": "code",
      "source": [
        "x[1] = (x[1] + (x[0]*3/2))\n",
        "x"
      ],
      "metadata": {
        "id": "mx3EtDLh2pCN",
        "colab": {
          "base_uri": "https://localhost:8080/"
        },
        "outputId": "879895d4-b7a1-46fa-9024-cb321e0b5f68"
      },
      "execution_count": null,
      "outputs": [
        {
          "output_type": "execute_result",
          "data": {
            "text/plain": [
              "array([[ 2,  1, -1,  8],\n",
              "       [ 0,  0,  0,  1],\n",
              "       [-2,  1,  2, -3]])"
            ]
          },
          "metadata": {},
          "execution_count": 3
        }
      ]
    },
    {
      "cell_type": "markdown",
      "source": [
        "b) Linha3 = Linha3 + Linha1"
      ],
      "metadata": {
        "id": "3c4D87ypz2TX"
      }
    },
    {
      "cell_type": "code",
      "source": [
        "x[2] = x[2] + x[0]\n",
        "x"
      ],
      "metadata": {
        "colab": {
          "base_uri": "https://localhost:8080/"
        },
        "id": "AXfqMgAoz7I9",
        "outputId": "90dae4bf-e2f3-425b-c852-b353732eb34a"
      },
      "execution_count": null,
      "outputs": [
        {
          "output_type": "execute_result",
          "data": {
            "text/plain": [
              "array([[ 2,  1, -1,  8],\n",
              "       [ 0,  0,  0,  1],\n",
              "       [ 0,  2,  1,  5]])"
            ]
          },
          "metadata": {},
          "execution_count": 4
        }
      ]
    },
    {
      "cell_type": "markdown",
      "source": [
        "c)Linha3 = Linha3 - 4Linha2"
      ],
      "metadata": {
        "id": "wX-I6WZvz7cQ"
      }
    },
    {
      "cell_type": "code",
      "source": [
        "x[2] = x[2] - (4*x[1])\n",
        "x"
      ],
      "metadata": {
        "colab": {
          "base_uri": "https://localhost:8080/"
        },
        "id": "DFj8tDg0z_7Y",
        "outputId": "82afa596-7dbe-4c2a-9922-de08b49e09b0"
      },
      "execution_count": null,
      "outputs": [
        {
          "output_type": "execute_result",
          "data": {
            "text/plain": [
              "array([[ 2,  1, -1,  8],\n",
              "       [ 0,  0,  0,  1],\n",
              "       [ 0,  2,  1,  1]])"
            ]
          },
          "metadata": {},
          "execution_count": 5
        }
      ]
    },
    {
      "cell_type": "markdown",
      "source": [
        "d) Linha2 = Linha2 + 1/2.Linha3"
      ],
      "metadata": {
        "id": "5kT9ZjkQ0AUJ"
      }
    },
    {
      "cell_type": "code",
      "source": [
        "x[1] = x[1] + (x[2]*1/2)\n",
        "x"
      ],
      "metadata": {
        "colab": {
          "base_uri": "https://localhost:8080/"
        },
        "id": "-Nxrc3A_0H95",
        "outputId": "98250e88-4295-41b6-e1b5-a24cb70fcb6c"
      },
      "execution_count": null,
      "outputs": [
        {
          "output_type": "execute_result",
          "data": {
            "text/plain": [
              "array([[ 2,  1, -1,  8],\n",
              "       [ 0,  1,  0,  1],\n",
              "       [ 0,  2,  1,  1]])"
            ]
          },
          "metadata": {},
          "execution_count": 6
        }
      ]
    },
    {
      "cell_type": "markdown",
      "source": [
        "e) Linha1 = Linha1 - Linha3"
      ],
      "metadata": {
        "id": "QlS7l2uw0IK5"
      }
    },
    {
      "cell_type": "code",
      "source": [
        "x[0] = x[0] - x[2]\n",
        "x"
      ],
      "metadata": {
        "colab": {
          "base_uri": "https://localhost:8080/"
        },
        "id": "GU538tO00MhC",
        "outputId": "f88f28a0-41f3-4860-a11b-a6546b0ed221"
      },
      "execution_count": null,
      "outputs": [
        {
          "output_type": "execute_result",
          "data": {
            "text/plain": [
              "array([[ 2, -1, -2,  7],\n",
              "       [ 0,  1,  0,  1],\n",
              "       [ 0,  2,  1,  1]])"
            ]
          },
          "metadata": {},
          "execution_count": 7
        }
      ]
    },
    {
      "cell_type": "markdown",
      "source": [
        "f) Linha2 = 2Linha2"
      ],
      "metadata": {
        "id": "-Z2iRDB90M6a"
      }
    },
    {
      "cell_type": "code",
      "source": [
        "x[1] = 2*x[1]\n",
        "x"
      ],
      "metadata": {
        "colab": {
          "base_uri": "https://localhost:8080/"
        },
        "id": "lHswE1p10TKD",
        "outputId": "6ff0bd16-2f53-4406-fe17-997b16cb4c6a"
      },
      "execution_count": null,
      "outputs": [
        {
          "output_type": "execute_result",
          "data": {
            "text/plain": [
              "array([[ 2, -1, -2,  7],\n",
              "       [ 0,  2,  0,  2],\n",
              "       [ 0,  2,  1,  1]])"
            ]
          },
          "metadata": {},
          "execution_count": 8
        }
      ]
    },
    {
      "cell_type": "markdown",
      "source": [
        "g) Linha3 = -Linha3"
      ],
      "metadata": {
        "id": "Im8SSvTf0Th-"
      }
    },
    {
      "cell_type": "code",
      "source": [
        "x[2] = -x[2]\n",
        "x"
      ],
      "metadata": {
        "colab": {
          "base_uri": "https://localhost:8080/"
        },
        "id": "T9KeIrWK0Wzr",
        "outputId": "5c5b6cc4-37d6-4518-9ec2-06e4292166c7"
      },
      "execution_count": null,
      "outputs": [
        {
          "output_type": "execute_result",
          "data": {
            "text/plain": [
              "array([[ 2, -1, -2,  7],\n",
              "       [ 0,  2,  0,  2],\n",
              "       [ 0, -2, -1, -1]])"
            ]
          },
          "metadata": {},
          "execution_count": 9
        }
      ]
    },
    {
      "cell_type": "markdown",
      "source": [
        "h) Linha1 = Linha1 - Linha2"
      ],
      "metadata": {
        "id": "4J_FufoH0XFE"
      }
    },
    {
      "cell_type": "code",
      "source": [
        "x[0] = x[0] - x[1]\n",
        "x"
      ],
      "metadata": {
        "colab": {
          "base_uri": "https://localhost:8080/"
        },
        "id": "eG5yQdZi0ahJ",
        "outputId": "60854023-168e-4dec-f586-5769dfce7351"
      },
      "execution_count": null,
      "outputs": [
        {
          "output_type": "execute_result",
          "data": {
            "text/plain": [
              "array([[ 2, -3, -2,  5],\n",
              "       [ 0,  2,  0,  2],\n",
              "       [ 0, -2, -1, -1]])"
            ]
          },
          "metadata": {},
          "execution_count": 10
        }
      ]
    },
    {
      "cell_type": "markdown",
      "source": [
        "i) Linha1 = 1/2.Linha1"
      ],
      "metadata": {
        "id": "FSLfi4-K0a0b"
      }
    },
    {
      "cell_type": "code",
      "source": [
        "x[0] = x[0]*1/2\n",
        "x"
      ],
      "metadata": {
        "colab": {
          "base_uri": "https://localhost:8080/"
        },
        "id": "n3NyfTNU0i1n",
        "outputId": "3b0e325c-5b4d-484a-e1da-b4a6826dcfa4"
      },
      "execution_count": null,
      "outputs": [
        {
          "output_type": "execute_result",
          "data": {
            "text/plain": [
              "array([[ 1, -1, -1,  2],\n",
              "       [ 0,  2,  0,  2],\n",
              "       [ 0, -2, -1, -1]])"
            ]
          },
          "metadata": {},
          "execution_count": 11
        }
      ]
    },
    {
      "cell_type": "markdown",
      "source": [
        "Resultado esperado: <br>\n",
        "[1, 0, 0, 2] <br>\n",
        "[0, 1, 0, 3] <br>\n",
        "[0, 0, 1, -1]"
      ],
      "metadata": {
        "id": "ZSvNkDiKf-7C"
      }
    },
    {
      "cell_type": "markdown",
      "source": [
        "Como através dessas linhas de execução não obtivemos o resultado correto, vamos fazer através do método matemático.\n"
      ],
      "metadata": {
        "id": "yTxzusYXdhqR"
      }
    },
    {
      "cell_type": "code",
      "source": [
        "#montando a matriz:\n",
        "linha1 = [2,1,-1,8]\n",
        "linha3 = [-3,-1,2,-11]\n",
        "linha2 = [-2,1,2,-3] #mudando a ordem para facilitar\n",
        "x = np.array([linha1, linha2, linha3])\n",
        "x\n",
        "#linha 1 = x[0]\n",
        "#linha 2 = x[1]\n",
        "#linha 3 = x[2]"
      ],
      "metadata": {
        "colab": {
          "base_uri": "https://localhost:8080/"
        },
        "id": "kGtVtZicdvlL",
        "outputId": "09568e63-50d6-403f-f73f-cdf6e209f064"
      },
      "execution_count": null,
      "outputs": [
        {
          "output_type": "execute_result",
          "data": {
            "text/plain": [
              "array([[  2,   1,  -1,   8],\n",
              "       [ -2,   1,   2,  -3],\n",
              "       [ -3,  -1,   2, -11]])"
            ]
          },
          "metadata": {},
          "execution_count": 12
        }
      ]
    },
    {
      "cell_type": "code",
      "source": [
        "#pivô linha 1 = 2, logo\n",
        "#para zerar o x da segunda linha:\n",
        "x[1] = x[0] + x[1]\n",
        "x"
      ],
      "metadata": {
        "colab": {
          "base_uri": "https://localhost:8080/"
        },
        "id": "oP9_q3U4dxwJ",
        "outputId": "cd65e94d-dad0-40dd-ddf3-d44b9fdbcc68"
      },
      "execution_count": null,
      "outputs": [
        {
          "output_type": "execute_result",
          "data": {
            "text/plain": [
              "array([[  2,   1,  -1,   8],\n",
              "       [  0,   2,   1,   5],\n",
              "       [ -3,  -1,   2, -11]])"
            ]
          },
          "metadata": {},
          "execution_count": 13
        }
      ]
    },
    {
      "cell_type": "code",
      "source": [
        "#para zerar o x da terceira linha:\n",
        "x[2] = 3*x[0] + 2*x[2]\n",
        "x"
      ],
      "metadata": {
        "colab": {
          "base_uri": "https://localhost:8080/"
        },
        "id": "APM3QZYUfC3Z",
        "outputId": "7b368561-859c-4432-e3f1-d04a9eeeadfb"
      },
      "execution_count": null,
      "outputs": [
        {
          "output_type": "execute_result",
          "data": {
            "text/plain": [
              "array([[ 2,  1, -1,  8],\n",
              "       [ 0,  2,  1,  5],\n",
              "       [ 0,  1,  1,  2]])"
            ]
          },
          "metadata": {},
          "execution_count": 14
        }
      ]
    },
    {
      "cell_type": "code",
      "source": [
        "#pivô da segunda linha = 2, logo\n",
        "#para zerar o y da terceira linha:\n",
        "x[2] = x[1] - 2*x[2]\n",
        "x"
      ],
      "metadata": {
        "colab": {
          "base_uri": "https://localhost:8080/"
        },
        "id": "ksS9h8GJfTDr",
        "outputId": "f49d6dec-d7a9-475d-b446-132ea15bfd3c"
      },
      "execution_count": null,
      "outputs": [
        {
          "output_type": "execute_result",
          "data": {
            "text/plain": [
              "array([[ 2,  1, -1,  8],\n",
              "       [ 0,  2,  1,  5],\n",
              "       [ 0,  0, -1,  1]])"
            ]
          },
          "metadata": {},
          "execution_count": 15
        }
      ]
    },
    {
      "cell_type": "code",
      "source": [
        "#agora devemos encontrar os valores que satisfassam as funções:\n",
        "#-1.z = 1 => z = -1.\n",
        "x[2][2] = x[2][2]*(-1)\n",
        "x[2][3] = -1\n",
        "x"
      ],
      "metadata": {
        "colab": {
          "base_uri": "https://localhost:8080/"
        },
        "id": "z9OnmOHyh7CT",
        "outputId": "3c188755-90a3-47c5-ea9d-1d5b6a7c9ad0"
      },
      "execution_count": null,
      "outputs": [
        {
          "output_type": "execute_result",
          "data": {
            "text/plain": [
              "array([[ 2,  1, -1,  8],\n",
              "       [ 0,  2,  1,  5],\n",
              "       [ 0,  0,  1, -1]])"
            ]
          },
          "metadata": {},
          "execution_count": 16
        }
      ]
    },
    {
      "cell_type": "code",
      "source": [
        "#para y: 2y + 1.-1 = 5 => y = 3\n",
        "x[1][1] = x[1][1]/2\n",
        "x[1][2] = x[1][2]-1\n",
        "x[1][3] = 3\n",
        "x"
      ],
      "metadata": {
        "colab": {
          "base_uri": "https://localhost:8080/"
        },
        "id": "c2-bRB9Eim84",
        "outputId": "9988d28a-104f-49af-aa80-f60beee995d2"
      },
      "execution_count": null,
      "outputs": [
        {
          "output_type": "execute_result",
          "data": {
            "text/plain": [
              "array([[ 2,  1, -1,  8],\n",
              "       [ 0,  1,  0,  3],\n",
              "       [ 0,  0,  1, -1]])"
            ]
          },
          "metadata": {},
          "execution_count": 17
        }
      ]
    },
    {
      "cell_type": "code",
      "source": [
        "#para x: 2x + 1.3 + -1.-1 = 8 => x = 2\n",
        "x[0][0] = x[0][0]/2\n",
        "x[0][1] = x[0][1] - 1\n",
        "x[0][2] = x[0][2] + 1\n",
        "x[0][3] = 2\n",
        "x"
      ],
      "metadata": {
        "colab": {
          "base_uri": "https://localhost:8080/"
        },
        "id": "WVB0TAhUlqdB",
        "outputId": "e9f535e5-a7e2-4294-c394-d4517ce66687"
      },
      "execution_count": null,
      "outputs": [
        {
          "output_type": "execute_result",
          "data": {
            "text/plain": [
              "array([[ 1,  0,  0,  2],\n",
              "       [ 0,  1,  0,  3],\n",
              "       [ 0,  0,  1, -1]])"
            ]
          },
          "metadata": {},
          "execution_count": 18
        }
      ]
    },
    {
      "cell_type": "markdown",
      "source": [
        "#2 - Faça uma função que dado um intervalo fechado [a, b] e um número de pontos n, retorna o array x, formado pelos n pontos obtidos a partir do intervalo [a, b] e y é o array onde yi = x²i − 9.\n",
        "\n"
      ],
      "metadata": {
        "id": "eqk_Lq_f5GXj"
      }
    },
    {
      "cell_type": "code",
      "source": [
        "def intervalo(x, n):\n",
        "  #recebe uma lista com dois valores, sendo [a,b] e um número inteiro de pontos\n",
        "  a = x[0]\n",
        "  b = x[1]\n",
        "  intervalo = np.linspace(a,b,n)\n",
        "  y = intervalo**2 - 9\n",
        "  print(f'Array x: {intervalo}, \\nArray y: {y}')\n",
        "\n"
      ],
      "metadata": {
        "id": "ktPxMiGl4fM1"
      },
      "execution_count": null,
      "outputs": []
    },
    {
      "cell_type": "code",
      "source": [
        "intervalo([0,10],8)"
      ],
      "metadata": {
        "colab": {
          "base_uri": "https://localhost:8080/"
        },
        "id": "gECWki6XomqJ",
        "outputId": "41faf4fd-01e9-4e9c-e5d5-275ace841df5"
      },
      "execution_count": null,
      "outputs": [
        {
          "output_type": "stream",
          "name": "stdout",
          "text": [
            "Array x: [ 0.          1.42857143  2.85714286  4.28571429  5.71428571  7.14285714\n",
            "  8.57142857 10.        ], \n",
            "Array y: [-9.         -6.95918367 -0.83673469  9.36734694 23.65306122 42.02040816\n",
            " 64.46938776 91.        ]\n"
          ]
        }
      ]
    },
    {
      "cell_type": "markdown",
      "source": [
        "#3 - Considere a expressão polinomial:\n",
        "p(x) = a0 + a1.x + a2.x² + ... + an.x^n = Somatório de an.x^n, de n = 0 até N.\n",
        "<br>\n",
        "\n",
        "Escreva uma função que utilize arrays e operações em arrays NumPy para calcular tal polinômio, sem usar laços. <br>\n",
        "Dica: use np.cumprod().\n"
      ],
      "metadata": {
        "id": "0xRd1A417jo2"
      }
    },
    {
      "cell_type": "code",
      "source": [
        "import numpy as np\n",
        "\n",
        "def polinomio(n):\n",
        "  arr = np.array(range(0,n+1))\n",
        "  resultado = np.cumprod(x**arr)\n",
        "  return resultado\n"
      ],
      "metadata": {
        "id": "nafKmYBH781K"
      },
      "execution_count": null,
      "outputs": []
    },
    {
      "cell_type": "code",
      "source": [
        "polinomio(10)"
      ],
      "metadata": {
        "colab": {
          "base_uri": "https://localhost:8080/"
        },
        "id": "qbMhLwnBlaAv",
        "outputId": "e95633d7-3052-408b-8bbc-c9192b2e4371"
      },
      "execution_count": null,
      "outputs": [
        {
          "output_type": "execute_result",
          "data": {
            "text/plain": [
              "array([                  1,                   1,                   4,\n",
              "                       108,               27648,            86400000,\n",
              "             4031078400000, 3319766398771200000, -907465429310504960,\n",
              "       2649120435010011136, 7504122879106088960])"
            ]
          },
          "metadata": {},
          "execution_count": 44
        }
      ]
    },
    {
      "cell_type": "code",
      "source": [],
      "metadata": {
        "id": "il4fAbAemH3B"
      },
      "execution_count": null,
      "outputs": []
    }
  ]
}