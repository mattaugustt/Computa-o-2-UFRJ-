{
  "nbformat": 4,
  "nbformat_minor": 0,
  "metadata": {
    "colab": {
      "provenance": [],
      "collapsed_sections": [
        "5qcMsnQnuace",
        "dQ4Bhhc3v71a",
        "Ft_Y3zZ54ri0",
        "ntdAUsujOAhD",
        "hZdIn-dRmPMT"
      ]
    },
    "kernelspec": {
      "name": "python3",
      "display_name": "Python 3"
    },
    "language_info": {
      "name": "python"
    }
  },
  "cells": [
    {
      "cell_type": "markdown",
      "source": [
        "Computação 2 -  2023.2 <br>\n",
        "\n",
        "Nome: Matheus Augusto de Souza <br>\n",
        "\n",
        "DRE: 118164136"
      ],
      "metadata": {
        "id": "nQ08Y2Kp3IPc"
      }
    },
    {
      "cell_type": "markdown",
      "source": [
        "#Questão 1: <br>"
      ],
      "metadata": {
        "id": "5qcMsnQnuace"
      }
    },
    {
      "cell_type": "markdown",
      "source": [
        "Implemente uma classe Veiculo com as seguintes propriedades: <br>\n",
        "\n",
        "a) Um veículo tem um certo consumo de combustível (medido em km/litro), uma certa quantidade de combustível no tanque e uma capacidade máxima de combustível. <br>\n",
        "\n",
        "b) O consumo e a capacidade do tanque são especificados no construtor da classe. <br>\n",
        "\n",
        "c) Forneça um método mover(km) que receba a distância em quilômetros e reduz o nível de combustível no tanque baseado no consumo do veículo. <br>\n",
        "\n",
        "d) Forneça um método getCombustivel(), que retorne o nível atual de combustível. <br>\n",
        "\n",
        "e) Forneça um método abastecer(litros), para abastecer o tanque. <br>\n",
        "\n",
        "f) Crie defesas em seu método para impedir que o veículo fique com a quantidade negativa de combustível ou que ultrapasse a capacidade máxima do tanque. <br>\n",
        "Lembre-se de também não permitir que o veículo se mova se estiver sem combustível. <br>\n",
        "Para essas situações, imprima mensagens informando o ocorrido. <br>\n",
        "\n",
        "g) Teste a sua classe: Crie um veículo, abastace o tanque, ande, mande mostrar a quantidade de combustível e teste as defesas que você criou para não permitir situações impossíveis. <br>"
      ],
      "metadata": {
        "id": "JzSRx67tv4OK"
      }
    },
    {
      "cell_type": "code",
      "execution_count": 698,
      "metadata": {
        "id": "u1N9vb9zt9aO"
      },
      "outputs": [],
      "source": [
        "class Veiculo():\n",
        "  def __init__(self, cons, combus, max):\n",
        "    self.consumo = cons\n",
        "    #medido em km por l\n",
        "    self.combustivel = combus\n",
        "    #combustivel no tanque (l)\n",
        "    self.cheio = max\n",
        "    #capacidade maxima do tanque\n",
        "\n",
        "  def mover(self, km):\n",
        "    comb = km/self.consumo\n",
        "    if (self.combustivel - comb) > 0:\n",
        "      self.combustivel = self.combustivel - comb\n",
        "      return\n",
        "    else:\n",
        "      print('Não há combustivel suficiente.')\n",
        "\n",
        "  def getCombustivel(self):\n",
        "    return self.combustivel\n",
        "\n",
        "  def abastecer(self, l):\n",
        "    if (self.combustivel + l) < self.cheio:\n",
        "      self.combustivel = self.combustivel + l\n",
        "      return self.combustivel\n",
        "    else:\n",
        "      print('O tanque não suporta.')\n",
        "\n",
        "\n"
      ]
    },
    {
      "cell_type": "code",
      "source": [
        "v1 = Veiculo(10, 100, 150)\n",
        "#consumo (km/l), tanque, capacidade máxima"
      ],
      "metadata": {
        "id": "iZIwgwljvNP9"
      },
      "execution_count": 699,
      "outputs": []
    },
    {
      "cell_type": "code",
      "source": [
        "v1.abastecer(40)"
      ],
      "metadata": {
        "colab": {
          "base_uri": "https://localhost:8080/"
        },
        "id": "YZolLSkmvQQ4",
        "outputId": "2235836f-4c29-4623-ab4c-a58c5ff0c3c3"
      },
      "execution_count": 700,
      "outputs": [
        {
          "output_type": "execute_result",
          "data": {
            "text/plain": [
              "140"
            ]
          },
          "metadata": {},
          "execution_count": 700
        }
      ]
    },
    {
      "cell_type": "code",
      "source": [
        "v1.abastecer(20)"
      ],
      "metadata": {
        "colab": {
          "base_uri": "https://localhost:8080/"
        },
        "id": "CQY6hnQDvSaO",
        "outputId": "ca31961e-8e98-4ad0-89bc-e65f3538a9f8"
      },
      "execution_count": 701,
      "outputs": [
        {
          "output_type": "stream",
          "name": "stdout",
          "text": [
            "O tanque não suporta.\n"
          ]
        }
      ]
    },
    {
      "cell_type": "code",
      "source": [
        "v1.mover(1500)"
      ],
      "metadata": {
        "colab": {
          "base_uri": "https://localhost:8080/"
        },
        "id": "3oxPUcn_valY",
        "outputId": "325f45bc-6802-4f23-d5db-74724d8a207c"
      },
      "execution_count": 702,
      "outputs": [
        {
          "output_type": "stream",
          "name": "stdout",
          "text": [
            "Não há combustivel suficiente.\n"
          ]
        }
      ]
    },
    {
      "cell_type": "code",
      "source": [
        "v1.getCombustivel()"
      ],
      "metadata": {
        "colab": {
          "base_uri": "https://localhost:8080/"
        },
        "id": "oKTLZlC4vepG",
        "outputId": "5cab29e5-06b0-4f37-83a3-53e4b84b160e"
      },
      "execution_count": 703,
      "outputs": [
        {
          "output_type": "execute_result",
          "data": {
            "text/plain": [
              "140"
            ]
          },
          "metadata": {},
          "execution_count": 703
        }
      ]
    },
    {
      "cell_type": "code",
      "source": [
        "v1.mover(1000)"
      ],
      "metadata": {
        "id": "53coe5yCvhUW"
      },
      "execution_count": 704,
      "outputs": []
    },
    {
      "cell_type": "code",
      "source": [
        "v1.getCombustivel()"
      ],
      "metadata": {
        "colab": {
          "base_uri": "https://localhost:8080/"
        },
        "id": "m1FRofQKvkWe",
        "outputId": "84687c44-25f6-4104-df2b-9f5921343f4e"
      },
      "execution_count": 705,
      "outputs": [
        {
          "output_type": "execute_result",
          "data": {
            "text/plain": [
              "40.0"
            ]
          },
          "metadata": {},
          "execution_count": 705
        }
      ]
    },
    {
      "cell_type": "code",
      "source": [],
      "metadata": {
        "id": "KeydaI_VvvAF"
      },
      "execution_count": 705,
      "outputs": []
    },
    {
      "cell_type": "markdown",
      "source": [
        "#Questão 2:"
      ],
      "metadata": {
        "id": "dQ4Bhhc3v71a"
      }
    },
    {
      "cell_type": "markdown",
      "source": [
        "Crie uma classe Funcionario. Ela deve ter o nome do funcionário, o departamento onde ele trabalha, seu salário, a data de entrada na empresa, seu CPF e um valor booleano indicando se o funcionário ainda está ativo na empresa ou se foi demitido. <br>\n",
        "\n",
        "a) Além do construtor, você deve criar métodos para alterar/acessar atributos da classe. <br>\n",
        "\n",
        "b) Crie um método bonificar(valor) que aumenta o salário do funcionário ao adicionar um valor passado como parâmetro. <br>\n",
        "\n",
        "c) Crie um método demitir(), que não recebe parâmetro algum, apenas modifiva o valor booleano indicando que o funcionário não trabalha mais na empresa. <br>\n",
        "\n",
        "d) Crie uma defesa para não permitir que um funcionário inativo na empresa seja bonificado. <br>\n",
        "\n",
        "e) Teste sua classe: Crie vários objetos, chame seus métodos e teste sua defesa."
      ],
      "metadata": {
        "id": "w2mLRBtqv-h_"
      }
    },
    {
      "cell_type": "code",
      "source": [
        "class Funcionario():\n",
        "  def __init__(self, nome, departamento, salario, admissao, cpf, situacao=True):\n",
        "    self.nome = nome\n",
        "    self.dep = departamento\n",
        "    self.sal = salario\n",
        "    self.adm = admissao\n",
        "    self.cpf = cpf\n",
        "    self.sit = situacao #ativo ou desligado\n",
        "\n",
        "  def getSalario(self):\n",
        "    return self.sal\n",
        "\n",
        "  def setSal(self, novo):\n",
        "    if type(novo) == float or type(novo) == int:\n",
        "      self.sal = novo\n",
        "      return self.sal\n",
        "    else:\n",
        "      print('Valor não aceito. Tipo errado!')\n",
        "\n",
        "  def getSituacao(self):\n",
        "    return self.sit\n",
        "\n",
        "  def bonificar(self, valor):\n",
        "    if self.sit == True:\n",
        "      self.sal += valor\n",
        "      return self.sal\n",
        "    else:\n",
        "      print(\"Funcionário inativo!\")\n",
        "\n",
        "  def demitir(self):\n",
        "    if self.sit == True:\n",
        "      self.sit = False\n",
        "      return\n",
        "    else:\n",
        "      print('Funcionário já demitido')\n",
        "\n",
        ""
      ],
      "metadata": {
        "id": "gnsZ0ZvYwXo9"
      },
      "execution_count": 706,
      "outputs": []
    },
    {
      "cell_type": "code",
      "source": [
        "f1 = Funcionario('João','TI',5000.00, '20/04/2000',188888666,True)"
      ],
      "metadata": {
        "id": "99U2vStk0i2f"
      },
      "execution_count": 707,
      "outputs": []
    },
    {
      "cell_type": "code",
      "source": [
        "f2 = Funcionario('Luiza', 'MKT', 1200, '18/10/19', 288455366, False)"
      ],
      "metadata": {
        "id": "fadUdQKB1ve_"
      },
      "execution_count": 708,
      "outputs": []
    },
    {
      "cell_type": "code",
      "source": [
        "f1.sit"
      ],
      "metadata": {
        "colab": {
          "base_uri": "https://localhost:8080/"
        },
        "id": "SLD04fTJ2Ej5",
        "outputId": "e80607a6-e74e-4440-be95-f0d04774a8cc"
      },
      "execution_count": 709,
      "outputs": [
        {
          "output_type": "execute_result",
          "data": {
            "text/plain": [
              "True"
            ]
          },
          "metadata": {},
          "execution_count": 709
        }
      ]
    },
    {
      "cell_type": "code",
      "source": [
        "f2.sit"
      ],
      "metadata": {
        "colab": {
          "base_uri": "https://localhost:8080/"
        },
        "id": "y7FeXt5R2G1n",
        "outputId": "cb86761e-7245-4733-c18f-817885d22633"
      },
      "execution_count": 710,
      "outputs": [
        {
          "output_type": "execute_result",
          "data": {
            "text/plain": [
              "False"
            ]
          },
          "metadata": {},
          "execution_count": 710
        }
      ]
    },
    {
      "cell_type": "code",
      "source": [
        "f2.demitir()"
      ],
      "metadata": {
        "colab": {
          "base_uri": "https://localhost:8080/"
        },
        "id": "BttKnuUm2pV0",
        "outputId": "85a9b779-4876-48a3-8cd4-7d5f46c72037"
      },
      "execution_count": 711,
      "outputs": [
        {
          "output_type": "stream",
          "name": "stdout",
          "text": [
            "Funcionário já demitido\n"
          ]
        }
      ]
    },
    {
      "cell_type": "code",
      "source": [
        "f2.bonificar(1200)"
      ],
      "metadata": {
        "colab": {
          "base_uri": "https://localhost:8080/"
        },
        "id": "uF4El33S28xI",
        "outputId": "2fc33eda-9477-4421-b76d-2678091367e6"
      },
      "execution_count": 712,
      "outputs": [
        {
          "output_type": "stream",
          "name": "stdout",
          "text": [
            "Funcionário inativo!\n"
          ]
        }
      ]
    },
    {
      "cell_type": "code",
      "source": [
        "f1.bonificar(1200)"
      ],
      "metadata": {
        "colab": {
          "base_uri": "https://localhost:8080/"
        },
        "id": "FbZJIkLT3CmR",
        "outputId": "3a5176f7-7224-42ea-b83e-40209438e8e1"
      },
      "execution_count": 713,
      "outputs": [
        {
          "output_type": "execute_result",
          "data": {
            "text/plain": [
              "6200.0"
            ]
          },
          "metadata": {},
          "execution_count": 713
        }
      ]
    },
    {
      "cell_type": "code",
      "source": [
        "f1.setSal(10000.0)"
      ],
      "metadata": {
        "colab": {
          "base_uri": "https://localhost:8080/"
        },
        "id": "HvoiCi1G3K51",
        "outputId": "9eb2669c-efb1-4014-c1a4-3a76ef3bf6a9"
      },
      "execution_count": 714,
      "outputs": [
        {
          "output_type": "execute_result",
          "data": {
            "text/plain": [
              "10000.0"
            ]
          },
          "metadata": {},
          "execution_count": 714
        }
      ]
    },
    {
      "cell_type": "code",
      "source": [
        "f1.getSalario()"
      ],
      "metadata": {
        "colab": {
          "base_uri": "https://localhost:8080/"
        },
        "id": "QsitTpDD3XzM",
        "outputId": "54a71af5-158a-47ba-ce88-5d77bed97c09"
      },
      "execution_count": 715,
      "outputs": [
        {
          "output_type": "execute_result",
          "data": {
            "text/plain": [
              "10000.0"
            ]
          },
          "metadata": {},
          "execution_count": 715
        }
      ]
    },
    {
      "cell_type": "code",
      "source": [
        "f2.setSal('10.000')"
      ],
      "metadata": {
        "colab": {
          "base_uri": "https://localhost:8080/"
        },
        "id": "unZ3jAME39yz",
        "outputId": "3a455154-40ab-4a97-b4e3-2b4b57f87472"
      },
      "execution_count": 716,
      "outputs": [
        {
          "output_type": "stream",
          "name": "stdout",
          "text": [
            "Valor não aceito. Tipo errado!\n"
          ]
        }
      ]
    },
    {
      "cell_type": "code",
      "source": [
        "f2.setSal(2400)"
      ],
      "metadata": {
        "colab": {
          "base_uri": "https://localhost:8080/"
        },
        "id": "dF5GpgNJ4S32",
        "outputId": "265b781b-bf34-420e-af16-85b759f70013"
      },
      "execution_count": 717,
      "outputs": [
        {
          "output_type": "execute_result",
          "data": {
            "text/plain": [
              "2400"
            ]
          },
          "metadata": {},
          "execution_count": 717
        }
      ]
    },
    {
      "cell_type": "code",
      "source": [
        "f2.getSalario()"
      ],
      "metadata": {
        "colab": {
          "base_uri": "https://localhost:8080/"
        },
        "id": "G9mg-pNR4ec3",
        "outputId": "6b3892b9-6107-47d5-8b91-1583275df2e6"
      },
      "execution_count": 718,
      "outputs": [
        {
          "output_type": "execute_result",
          "data": {
            "text/plain": [
              "2400"
            ]
          },
          "metadata": {},
          "execution_count": 718
        }
      ]
    },
    {
      "cell_type": "markdown",
      "source": [
        "#Questão 3:"
      ],
      "metadata": {
        "id": "Ft_Y3zZ54ri0"
      }
    },
    {
      "cell_type": "markdown",
      "source": [
        "Crie uma classe chamada Triangulo contendo os seguintes atributos e métodos:\n",
        "<br>\n",
        "<b>Atributos </b> <br>\n",
        "Tamanho dos três lados <br>\n",
        "\n",
        "<b>Métodos</b> <br>\n",
        "\n",
        "<b>ehValido</b>\n",
        " Retorna verdadeiro se o triângulo é válido (o lado maior deve ser menor que a soma dos outros lados), senão retorna falso. <br>\n",
        "\n",
        "<b>tipoTriangulo </b>\n",
        " Retorna o tipo do triângulo. Se possuir os 3 lados iguais, é equilátero. Se possuir apenas 2 lados iguais, é isósceles e se possuir os 3 lados com valores diferentes é escaleno. <br>\n",
        "\n",
        " <b>calculaPeri</b>\n",
        " retorna o perimetro do triangulo.\n",
        "\n",
        "<b>calculaArea</b>\n",
        "retorna a área do triângulo. <br>\n",
        "\n",
        "A área do triângulo pode ser aproximada pela fórmula de Heron, conforme a Equação 1, onde a, b e c são os lados do triângulo e p é o seu semiperímetro. <br>\n",
        "\n",
        "<b>Area</b> = RAIZ(p × (p − a) × (p − b) × (p − c))"
      ],
      "metadata": {
        "id": "_h5FGqM-4tdh"
      }
    },
    {
      "cell_type": "code",
      "source": [
        "class Triangulo():\n",
        "  def __init__(self, a, b, c):\n",
        "    \"\"\"A, B e C são os tamanhos dos lados do triangulo!\"\"\"\n",
        "    self.a = a\n",
        "    self.b = b\n",
        "    self.c = c\n",
        "\n",
        "  def ehValido(self):\n",
        "    x = [self.a, self.b, self.c]\n",
        "    x.sort() #ordena do menor pro maior\n",
        "    if (x[0] + x[1]) > x[2]:\n",
        "      return True\n",
        "    else:\n",
        "      return False\n",
        "\n",
        "  def tipoTriangulo(self):\n",
        "    if self.a == self.b == self.c:\n",
        "      print('Triangulo equilatero!')\n",
        "    elif self.a == self.b or self.a == self.c or self.c == self.b:\n",
        "      print('Triangulo isósceles!')\n",
        "    else:\n",
        "      print('Triangulo escaleno!')\n",
        "\n",
        "\n",
        "  def calculaPeri(self):\n",
        "    p = self.a + self.b + self.c\n",
        "    return p\n",
        "\n",
        "  def calculaArea(self):\n",
        "    p = self.a + self.b + self.c\n",
        "    a = (p * (p - self.a) * (p - self.b) * (p - self.c))**(1/2)\n",
        "    return a"
      ],
      "metadata": {
        "id": "g79gnE_T4hFS"
      },
      "execution_count": 719,
      "outputs": []
    },
    {
      "cell_type": "code",
      "source": [
        "t1 = Triangulo(5,5,5)"
      ],
      "metadata": {
        "id": "QLOU7Td1-_ZJ"
      },
      "execution_count": 720,
      "outputs": []
    },
    {
      "cell_type": "code",
      "source": [
        "t2 = Triangulo(10,5,4)"
      ],
      "metadata": {
        "id": "vdB8aXPI_EDk"
      },
      "execution_count": 721,
      "outputs": []
    },
    {
      "cell_type": "code",
      "source": [
        "t3 = Triangulo(5,6,7)"
      ],
      "metadata": {
        "id": "EL003f9n_Iok"
      },
      "execution_count": 722,
      "outputs": []
    },
    {
      "cell_type": "code",
      "source": [
        "t4 = Triangulo(5,4,4)"
      ],
      "metadata": {
        "id": "kzspVsKg_c42"
      },
      "execution_count": 723,
      "outputs": []
    },
    {
      "cell_type": "code",
      "source": [
        "t1.ehValido()"
      ],
      "metadata": {
        "colab": {
          "base_uri": "https://localhost:8080/"
        },
        "id": "oXUlShvz_MIH",
        "outputId": "207abaeb-aa52-484c-ff0c-c60706044177"
      },
      "execution_count": 724,
      "outputs": [
        {
          "output_type": "execute_result",
          "data": {
            "text/plain": [
              "True"
            ]
          },
          "metadata": {},
          "execution_count": 724
        }
      ]
    },
    {
      "cell_type": "code",
      "source": [
        "t2.ehValido()"
      ],
      "metadata": {
        "colab": {
          "base_uri": "https://localhost:8080/"
        },
        "id": "sBIzDU-C_OYU",
        "outputId": "9e88dcb5-77a5-47e6-9ef3-0794ee9f934f"
      },
      "execution_count": 725,
      "outputs": [
        {
          "output_type": "execute_result",
          "data": {
            "text/plain": [
              "False"
            ]
          },
          "metadata": {},
          "execution_count": 725
        }
      ]
    },
    {
      "cell_type": "code",
      "source": [
        "t3.ehValido()"
      ],
      "metadata": {
        "colab": {
          "base_uri": "https://localhost:8080/"
        },
        "id": "A7d4w2c7_RC8",
        "outputId": "d4e8d103-da38-43de-b494-96a6bea4fd4d"
      },
      "execution_count": 726,
      "outputs": [
        {
          "output_type": "execute_result",
          "data": {
            "text/plain": [
              "True"
            ]
          },
          "metadata": {},
          "execution_count": 726
        }
      ]
    },
    {
      "cell_type": "code",
      "source": [
        "t4.ehValido()"
      ],
      "metadata": {
        "colab": {
          "base_uri": "https://localhost:8080/"
        },
        "id": "y-GTPZxT_hoc",
        "outputId": "3978ca29-3b64-412f-bfe3-df1eb683f655"
      },
      "execution_count": 727,
      "outputs": [
        {
          "output_type": "execute_result",
          "data": {
            "text/plain": [
              "True"
            ]
          },
          "metadata": {},
          "execution_count": 727
        }
      ]
    },
    {
      "cell_type": "code",
      "source": [
        "t1.tipoTriangulo()"
      ],
      "metadata": {
        "colab": {
          "base_uri": "https://localhost:8080/"
        },
        "id": "dRJKEmlk_UdU",
        "outputId": "fab76236-1c50-4682-e98a-dee6096ef475"
      },
      "execution_count": 728,
      "outputs": [
        {
          "output_type": "stream",
          "name": "stdout",
          "text": [
            "Triangulo equilatero!\n"
          ]
        }
      ]
    },
    {
      "cell_type": "code",
      "source": [
        "t3.tipoTriangulo()"
      ],
      "metadata": {
        "colab": {
          "base_uri": "https://localhost:8080/"
        },
        "id": "aFKOMPfF_XCk",
        "outputId": "db6f5807-fcb3-4513-a95c-72e48cab46b9"
      },
      "execution_count": 729,
      "outputs": [
        {
          "output_type": "stream",
          "name": "stdout",
          "text": [
            "Triangulo escaleno!\n"
          ]
        }
      ]
    },
    {
      "cell_type": "code",
      "source": [
        "t4.tipoTriangulo()"
      ],
      "metadata": {
        "colab": {
          "base_uri": "https://localhost:8080/"
        },
        "id": "6ZSngwX7_ZqO",
        "outputId": "541ce0df-9866-4e7b-95fe-8dc1e2ddac84"
      },
      "execution_count": 730,
      "outputs": [
        {
          "output_type": "stream",
          "name": "stdout",
          "text": [
            "Triangulo isósceles!\n"
          ]
        }
      ]
    },
    {
      "cell_type": "code",
      "source": [
        "t1.calculaPeri()"
      ],
      "metadata": {
        "colab": {
          "base_uri": "https://localhost:8080/"
        },
        "id": "86zANGPU_mUc",
        "outputId": "6e425f43-f8fc-4a31-e3ad-f47812ead184"
      },
      "execution_count": 731,
      "outputs": [
        {
          "output_type": "execute_result",
          "data": {
            "text/plain": [
              "15"
            ]
          },
          "metadata": {},
          "execution_count": 731
        }
      ]
    },
    {
      "cell_type": "code",
      "source": [
        "t1.calculaArea()"
      ],
      "metadata": {
        "colab": {
          "base_uri": "https://localhost:8080/"
        },
        "id": "9rVnlnpj_q76",
        "outputId": "1b401f6e-1321-44f3-d543-d535dae13b9f"
      },
      "execution_count": 732,
      "outputs": [
        {
          "output_type": "execute_result",
          "data": {
            "text/plain": [
              "122.47448713915891"
            ]
          },
          "metadata": {},
          "execution_count": 732
        }
      ]
    },
    {
      "cell_type": "code",
      "source": [],
      "metadata": {
        "id": "MdqV9_lF_tYI"
      },
      "execution_count": 732,
      "outputs": []
    },
    {
      "cell_type": "markdown",
      "source": [
        "#Questão 4:"
      ],
      "metadata": {
        "id": "ntdAUsujOAhD"
      }
    },
    {
      "cell_type": "markdown",
      "source": [
        "Crie uma classe chamada Elevador para armazenar as informações de um elevador dentro de umprédio.    A classe deve armazenar o andar atual (0=térreo), total de andares no prédio (12 andares, por exemplo) excluindo o térreo, capacidade do elevador, e quantas pessoas estão presentes nele. <br>\n",
        "\n",
        "A classe deve também disponibilizar os seguintes métodos: <br>\n",
        "\n",
        "<b>construtor</b> que deve receber como parâmetros a capacidade do elevador e o total de andares no prédio (os elevadores sempres começam no térreo e vazios). <br>\n",
        "\n",
        "<b>entra</b> para acrescentar uma pessoa no elevador (só deve acrescentar se ainda hover espaço). <br>\n",
        "\n",
        "<b>sai</b> para remover uma pessoa do elevador (só deve remover se houver alguém no elevador). <br>\n",
        "\n",
        "<b>sobe</b> para subir um andar (não deve subir se já estiver no último andar).<br>\n",
        "\n",
        "<b>desce</b> para descer um andar (não deve descer se já estive no térreo). <br>\n",
        "\n",
        "<b>informa</b> método que imprime uma mensagem informando o andar que o elevador se encontra e quantas pessoas estão dentro dele. <br>"
      ],
      "metadata": {
        "id": "WzfF91SNOQDQ"
      }
    },
    {
      "cell_type": "code",
      "source": [
        "class Elevador():\n",
        "  def __init__(self, total_and, capacidade):\n",
        "    self.npessoas = 0\n",
        "    self.atual = 0\n",
        "    self.andares = total_and\n",
        "    self.capac = capacidade\n",
        "\n",
        "  def entra(self, n):\n",
        "    if (self.npessoas + n) <= self.capac:\n",
        "      self.npessoas += n\n",
        "      return self.npessoas\n",
        "    else:\n",
        "      print(f'Elevador não comporta {n} pessoas.\\nO elevador já possui {self.npessoas} pessoas. Capacidade máxima = {self.capac}')\n",
        "\n",
        "  def sai(self, n):\n",
        "    if (self.npessoas - n) >= 0:\n",
        "      self.npessoas -= n\n",
        "      return self.npessoas\n",
        "    else:\n",
        "      print(f'Não é possível remover {n} pois há {self.npessoas} pessoas no elevador.')\n",
        "\n",
        "  def sobe(self, n):\n",
        "    if (self.atual + n) <= self.andares:\n",
        "      self.atual += n\n",
        "      return self.atual\n",
        "    else:\n",
        "      print(f'Já estamos no {self.atual}° andar. Não podemos subir {n}, ultimo andar {self.andares}.')\n",
        "\n",
        "  def desce(self, n):\n",
        "    if (self.atual - n) >= 0:\n",
        "      self.atual -= n\n",
        "      return self.atual\n",
        "    else:\n",
        "      print(f'Já estamos no {self.atual}, não podemos descer {n} andares.')\n",
        "\n",
        "  def informa(self):\n",
        "    print(f'O elevador está no {self.atual}° andar e possui {self.npessoas} pessoas.')"
      ],
      "metadata": {
        "id": "0XlTB2vUOJsl"
      },
      "execution_count": 733,
      "outputs": []
    },
    {
      "cell_type": "code",
      "source": [
        "e1= Elevador(12,8)"
      ],
      "metadata": {
        "id": "FAYS7gUOW-Iz"
      },
      "execution_count": 734,
      "outputs": []
    },
    {
      "cell_type": "code",
      "source": [
        "e1.entra(10)"
      ],
      "metadata": {
        "colab": {
          "base_uri": "https://localhost:8080/"
        },
        "id": "xL-OHx1_XG_R",
        "outputId": "ced7bab1-5f9e-4836-beb4-973130709292"
      },
      "execution_count": 735,
      "outputs": [
        {
          "output_type": "stream",
          "name": "stdout",
          "text": [
            "Elevador não comporta 10 pessoas.\n",
            "O elevador já possui 0 pessoas. Capacidade máxima = 8\n"
          ]
        }
      ]
    },
    {
      "cell_type": "code",
      "source": [
        "e1.entra(5)"
      ],
      "metadata": {
        "colab": {
          "base_uri": "https://localhost:8080/"
        },
        "id": "p1R__T9nXXZ_",
        "outputId": "f2c34e5e-accc-4772-b1b5-d9c1c7ad591d"
      },
      "execution_count": 736,
      "outputs": [
        {
          "output_type": "execute_result",
          "data": {
            "text/plain": [
              "5"
            ]
          },
          "metadata": {},
          "execution_count": 736
        }
      ]
    },
    {
      "cell_type": "code",
      "source": [
        "e1.informa()"
      ],
      "metadata": {
        "colab": {
          "base_uri": "https://localhost:8080/"
        },
        "id": "SJbv8AmQXbDG",
        "outputId": "e8ad98d8-8432-49e6-9505-a4f2053a2ba0"
      },
      "execution_count": 737,
      "outputs": [
        {
          "output_type": "stream",
          "name": "stdout",
          "text": [
            "O elevador está no 0° andar e possui 5 pessoas.\n"
          ]
        }
      ]
    },
    {
      "cell_type": "code",
      "source": [
        "e1.desce(1)"
      ],
      "metadata": {
        "colab": {
          "base_uri": "https://localhost:8080/"
        },
        "id": "aIQQpsitky33",
        "outputId": "220787fe-d30a-4acb-ff78-a15a278f6a4a"
      },
      "execution_count": 738,
      "outputs": [
        {
          "output_type": "stream",
          "name": "stdout",
          "text": [
            "Já estamos no 0, não podemos descer 1 andares.\n"
          ]
        }
      ]
    },
    {
      "cell_type": "code",
      "source": [
        "e1.sobe(10)"
      ],
      "metadata": {
        "colab": {
          "base_uri": "https://localhost:8080/"
        },
        "id": "kDahDvELk3_c",
        "outputId": "e9290cf9-48e5-41d7-91de-9a774d26b743"
      },
      "execution_count": 739,
      "outputs": [
        {
          "output_type": "execute_result",
          "data": {
            "text/plain": [
              "10"
            ]
          },
          "metadata": {},
          "execution_count": 739
        }
      ]
    },
    {
      "cell_type": "code",
      "source": [
        "e1.informa()"
      ],
      "metadata": {
        "colab": {
          "base_uri": "https://localhost:8080/"
        },
        "id": "sYpexrj6k91W",
        "outputId": "0bd7c825-9032-40c2-fc4b-e82b4d5009e4"
      },
      "execution_count": 740,
      "outputs": [
        {
          "output_type": "stream",
          "name": "stdout",
          "text": [
            "O elevador está no 10° andar e possui 5 pessoas.\n"
          ]
        }
      ]
    },
    {
      "cell_type": "code",
      "source": [
        "e1.sai(3)"
      ],
      "metadata": {
        "colab": {
          "base_uri": "https://localhost:8080/"
        },
        "id": "OTFbuMTqlAY3",
        "outputId": "62bc11ab-451e-450d-e2a6-77c8706ff4c6"
      },
      "execution_count": 741,
      "outputs": [
        {
          "output_type": "execute_result",
          "data": {
            "text/plain": [
              "2"
            ]
          },
          "metadata": {},
          "execution_count": 741
        }
      ]
    },
    {
      "cell_type": "code",
      "source": [
        "e1.informa()"
      ],
      "metadata": {
        "colab": {
          "base_uri": "https://localhost:8080/"
        },
        "id": "hLsIdz2PlC-0",
        "outputId": "ca5cd7b7-3686-4005-a1f8-8e24bb684f5a"
      },
      "execution_count": 742,
      "outputs": [
        {
          "output_type": "stream",
          "name": "stdout",
          "text": [
            "O elevador está no 10° andar e possui 2 pessoas.\n"
          ]
        }
      ]
    },
    {
      "cell_type": "code",
      "source": [
        "e1.desce(2)"
      ],
      "metadata": {
        "colab": {
          "base_uri": "https://localhost:8080/"
        },
        "id": "AR8wFpdllEl7",
        "outputId": "b4db008e-0e08-4517-9fe2-772cca59297c"
      },
      "execution_count": 743,
      "outputs": [
        {
          "output_type": "execute_result",
          "data": {
            "text/plain": [
              "8"
            ]
          },
          "metadata": {},
          "execution_count": 743
        }
      ]
    },
    {
      "cell_type": "code",
      "source": [
        "e1.informa()"
      ],
      "metadata": {
        "colab": {
          "base_uri": "https://localhost:8080/"
        },
        "id": "BY4lKPOflHoe",
        "outputId": "7cbff6ac-8c9d-4f9f-d085-ae6787a8785a"
      },
      "execution_count": 744,
      "outputs": [
        {
          "output_type": "stream",
          "name": "stdout",
          "text": [
            "O elevador está no 8° andar e possui 2 pessoas.\n"
          ]
        }
      ]
    },
    {
      "cell_type": "code",
      "source": [
        "e1.entra(6)"
      ],
      "metadata": {
        "colab": {
          "base_uri": "https://localhost:8080/"
        },
        "id": "Mw_ezkoklJYf",
        "outputId": "3d0bf7c2-4f5e-4078-d0a7-aa8bd068b61e"
      },
      "execution_count": 745,
      "outputs": [
        {
          "output_type": "execute_result",
          "data": {
            "text/plain": [
              "8"
            ]
          },
          "metadata": {},
          "execution_count": 745
        }
      ]
    },
    {
      "cell_type": "code",
      "source": [
        "e1.informa()"
      ],
      "metadata": {
        "colab": {
          "base_uri": "https://localhost:8080/"
        },
        "id": "Sr_3L9o6lOKX",
        "outputId": "591b60a6-3857-43a2-9160-e0a21690e3e7"
      },
      "execution_count": 746,
      "outputs": [
        {
          "output_type": "stream",
          "name": "stdout",
          "text": [
            "O elevador está no 8° andar e possui 8 pessoas.\n"
          ]
        }
      ]
    },
    {
      "cell_type": "code",
      "source": [
        "e1.sobe(4)"
      ],
      "metadata": {
        "colab": {
          "base_uri": "https://localhost:8080/"
        },
        "id": "ilT5sjC6lPr2",
        "outputId": "8bb5ffdb-9358-4e58-e14e-b836821a28aa"
      },
      "execution_count": 747,
      "outputs": [
        {
          "output_type": "execute_result",
          "data": {
            "text/plain": [
              "12"
            ]
          },
          "metadata": {},
          "execution_count": 747
        }
      ]
    },
    {
      "cell_type": "code",
      "source": [
        "e1.informa()"
      ],
      "metadata": {
        "colab": {
          "base_uri": "https://localhost:8080/"
        },
        "id": "M4oBIGa6lSyX",
        "outputId": "c8937c7e-a27f-4ce8-d9ab-9d954ed666ac"
      },
      "execution_count": 748,
      "outputs": [
        {
          "output_type": "stream",
          "name": "stdout",
          "text": [
            "O elevador está no 12° andar e possui 8 pessoas.\n"
          ]
        }
      ]
    },
    {
      "cell_type": "code",
      "source": [
        "e1.sobe(1)"
      ],
      "metadata": {
        "colab": {
          "base_uri": "https://localhost:8080/"
        },
        "id": "MzHXgmwmle0I",
        "outputId": "82a5b362-16f0-46f8-d372-f8cdcbec9b9f"
      },
      "execution_count": 749,
      "outputs": [
        {
          "output_type": "stream",
          "name": "stdout",
          "text": [
            "Já estamos no 12° andar. Não podemos subir 1, ultimo andar 12.\n"
          ]
        }
      ]
    },
    {
      "cell_type": "code",
      "source": [
        "e1.desce(12)"
      ],
      "metadata": {
        "colab": {
          "base_uri": "https://localhost:8080/"
        },
        "id": "bnA49Y2Tlh3x",
        "outputId": "7f5aa30b-d6ac-45af-b3b8-e28f413e4895"
      },
      "execution_count": 750,
      "outputs": [
        {
          "output_type": "execute_result",
          "data": {
            "text/plain": [
              "0"
            ]
          },
          "metadata": {},
          "execution_count": 750
        }
      ]
    },
    {
      "cell_type": "code",
      "source": [
        "e1.informa()"
      ],
      "metadata": {
        "colab": {
          "base_uri": "https://localhost:8080/"
        },
        "id": "0iJeLX8clmr_",
        "outputId": "d6862bc7-4436-44c7-a95b-27357d1ba6a9"
      },
      "execution_count": 751,
      "outputs": [
        {
          "output_type": "stream",
          "name": "stdout",
          "text": [
            "O elevador está no 0° andar e possui 8 pessoas.\n"
          ]
        }
      ]
    },
    {
      "cell_type": "code",
      "source": [
        "e1.sai(9)"
      ],
      "metadata": {
        "colab": {
          "base_uri": "https://localhost:8080/"
        },
        "id": "fr7wPmGIl1rv",
        "outputId": "655c0946-c9ee-4454-dcf8-d4447e24a9c8"
      },
      "execution_count": 752,
      "outputs": [
        {
          "output_type": "stream",
          "name": "stdout",
          "text": [
            "Não é possível remover 9 pois há 8 pessoas no elevador.\n"
          ]
        }
      ]
    },
    {
      "cell_type": "code",
      "source": [
        "e1.sai(8)"
      ],
      "metadata": {
        "colab": {
          "base_uri": "https://localhost:8080/"
        },
        "id": "IxRKbgL7l31Q",
        "outputId": "841ea945-b837-433c-c2b1-70005081c5f2"
      },
      "execution_count": 753,
      "outputs": [
        {
          "output_type": "execute_result",
          "data": {
            "text/plain": [
              "0"
            ]
          },
          "metadata": {},
          "execution_count": 753
        }
      ]
    },
    {
      "cell_type": "code",
      "source": [
        "e1.informa()"
      ],
      "metadata": {
        "colab": {
          "base_uri": "https://localhost:8080/"
        },
        "id": "nPYJmAJCmJdl",
        "outputId": "c3a0ffb4-ed0a-433a-f697-b5a2ef87a9ab"
      },
      "execution_count": 754,
      "outputs": [
        {
          "output_type": "stream",
          "name": "stdout",
          "text": [
            "O elevador está no 0° andar e possui 0 pessoas.\n"
          ]
        }
      ]
    },
    {
      "cell_type": "code",
      "source": [],
      "metadata": {
        "id": "J0jnDK6PmLTZ"
      },
      "execution_count": 754,
      "outputs": []
    },
    {
      "cell_type": "markdown",
      "source": [
        "#Questão 5:"
      ],
      "metadata": {
        "id": "hZdIn-dRmPMT"
      }
    },
    {
      "cell_type": "markdown",
      "source": [
        "Construa uma classe Pessoa que possui os atributos: <br>\n",
        "nome, sexo, cpf, e cônjuge, onde o cônjuge também é uma Pessoa. <br>\n",
        "\n",
        "a) Defina um construtor que receba os atributos da pessoa. <br>\n",
        "\n",
        "b) Crie um método informaConjuge() que deve retornar o nome do cônjuge da pessoa, caso ela seja casada, ou retornar uma mensagem informando que a pessora não se encontra casada. <br>\n",
        "\n",
        "c) Crie um método casar(Pessoa), que receba um objeto da classe Pessoa e faça com que uma pessoa passe a ser cônjuge da outra. Antes, verifique se a pessoa e seu pretenso cônjuge já não são casados, não realize a operação se algum deles for casado e emita uma mensagem informando o ocorrido. <br>\n",
        "\n",
        "d) Teste sua classe: Crie diversos objetos da classe Pessoa e teste várias situações. Lembre-se de chamar o método informaConjuge() para os dois objetos e verificar se a resposta está adequada. <br>"
      ],
      "metadata": {
        "id": "Fsu2q45ImTQ4"
      }
    },
    {
      "cell_type": "code",
      "source": [
        "class Pessoa():\n",
        "  def __init__(self, nome, sexo, cpf):\n",
        "    self.nome = nome\n",
        "    self.sx = sexo\n",
        "    self.cpf = cpf\n",
        "    self.conj = False\n",
        "\n",
        "\n",
        "  def informaConjuge(self):\n",
        "    if self.conj == False:\n",
        "      print('Não é casade!')\n",
        "    else:\n",
        "      return self.conj.nome\n",
        "\n",
        "  def casar(self, pessoa):\n",
        "    if pessoa.conj == False and self.conj == False:\n",
        "      self.conj = pessoa\n",
        "      pessoa.conj = self\n",
        "      return f'{self.nome} casou com {self.conj.nome}! Parabéns'\n",
        "\n",
        "    else:\n",
        "      if self.conj == False:\n",
        "        print(f'{self.nome} não é casade e {pessoa.nome} é casade com {pessoa.conj.nome}')\n",
        "      elif pessoa.conj == False:\n",
        "        print(f'{self.nome} é casade com {self.conj.nome} e {pessoa.nome} não é casade')\n",
        "      else:\n",
        "        print(f'{self.nome} é casade com {self.conj.nome} e {pessoa.nome} é casade com {pessoa.conj.nome}')\n",
        "\n",
        "\n"
      ],
      "metadata": {
        "id": "-XkO7mBGoWPF"
      },
      "execution_count": 755,
      "outputs": []
    },
    {
      "cell_type": "code",
      "source": [
        "p1 = Pessoa('Matheus', 'm', 1454456)"
      ],
      "metadata": {
        "id": "dlEhKo5OrwKa"
      },
      "execution_count": 756,
      "outputs": []
    },
    {
      "cell_type": "code",
      "source": [
        "p1.informaConjuge()"
      ],
      "metadata": {
        "colab": {
          "base_uri": "https://localhost:8080/"
        },
        "id": "dSqTeNm1wBtN",
        "outputId": "0ad43060-c2b9-4cfc-989b-0516adaa8f3b"
      },
      "execution_count": 757,
      "outputs": [
        {
          "output_type": "stream",
          "name": "stdout",
          "text": [
            "Não é casade!\n"
          ]
        }
      ]
    },
    {
      "cell_type": "code",
      "source": [
        "p2 = Pessoa('Livia', 'f', 122435)"
      ],
      "metadata": {
        "id": "XfodmqNAr4RS"
      },
      "execution_count": 758,
      "outputs": []
    },
    {
      "cell_type": "code",
      "source": [
        "p3 = Pessoa('Marco','m', 464743)"
      ],
      "metadata": {
        "id": "Zb7DZ6sasEnI"
      },
      "execution_count": 759,
      "outputs": []
    },
    {
      "cell_type": "code",
      "source": [
        "p2.casar(p3)"
      ],
      "metadata": {
        "colab": {
          "base_uri": "https://localhost:8080/",
          "height": 35
        },
        "id": "JKb1zh3kxy_S",
        "outputId": "9f95f036-1001-4ae1-86f8-a649e3a6c9dd"
      },
      "execution_count": 760,
      "outputs": [
        {
          "output_type": "execute_result",
          "data": {
            "text/plain": [
              "'Livia casou com Marco! Parabéns'"
            ],
            "application/vnd.google.colaboratory.intrinsic+json": {
              "type": "string"
            }
          },
          "metadata": {},
          "execution_count": 760
        }
      ]
    },
    {
      "cell_type": "code",
      "source": [
        "p3.informaConjuge()"
      ],
      "metadata": {
        "colab": {
          "base_uri": "https://localhost:8080/",
          "height": 35
        },
        "id": "OKWyiSUDx2Ay",
        "outputId": "e0ebaff5-7482-4e56-8137-17af5cfeced3"
      },
      "execution_count": 761,
      "outputs": [
        {
          "output_type": "execute_result",
          "data": {
            "text/plain": [
              "'Livia'"
            ],
            "application/vnd.google.colaboratory.intrinsic+json": {
              "type": "string"
            }
          },
          "metadata": {},
          "execution_count": 761
        }
      ]
    },
    {
      "cell_type": "code",
      "source": [
        "p2.informaConjuge()"
      ],
      "metadata": {
        "colab": {
          "base_uri": "https://localhost:8080/",
          "height": 35
        },
        "id": "i7Uu_sGoyFKc",
        "outputId": "0a7ed8b4-5c3b-446a-dcfd-0ee79e9b671c"
      },
      "execution_count": 762,
      "outputs": [
        {
          "output_type": "execute_result",
          "data": {
            "text/plain": [
              "'Marco'"
            ],
            "application/vnd.google.colaboratory.intrinsic+json": {
              "type": "string"
            }
          },
          "metadata": {},
          "execution_count": 762
        }
      ]
    },
    {
      "cell_type": "code",
      "source": [
        "p1.casar(p3)"
      ],
      "metadata": {
        "colab": {
          "base_uri": "https://localhost:8080/"
        },
        "id": "XaagGdgGyNDq",
        "outputId": "d3793d09-a67c-43a8-8d87-a3b4c1d05da0"
      },
      "execution_count": 763,
      "outputs": [
        {
          "output_type": "stream",
          "name": "stdout",
          "text": [
            "Matheus não é casade e Marco é casade com Livia\n"
          ]
        }
      ]
    },
    {
      "cell_type": "code",
      "source": [
        "p3.casar(p1)"
      ],
      "metadata": {
        "colab": {
          "base_uri": "https://localhost:8080/"
        },
        "id": "3OOXk4FtyRiZ",
        "outputId": "22197cab-5dd4-40da-b826-92baa32b294e"
      },
      "execution_count": 764,
      "outputs": [
        {
          "output_type": "stream",
          "name": "stdout",
          "text": [
            "Marco é casade com Livia e Matheus não é casade\n"
          ]
        }
      ]
    },
    {
      "cell_type": "code",
      "source": [
        "p4 = Pessoa('Luiz', 'm', 46556)"
      ],
      "metadata": {
        "id": "Uv1sTi0Dz95R"
      },
      "execution_count": 765,
      "outputs": []
    },
    {
      "cell_type": "code",
      "source": [
        "p4.casar(p1)"
      ],
      "metadata": {
        "colab": {
          "base_uri": "https://localhost:8080/",
          "height": 35
        },
        "id": "pXG1AqMu0sQW",
        "outputId": "1552c600-e48f-42d2-a984-d8b48d4fa300"
      },
      "execution_count": 766,
      "outputs": [
        {
          "output_type": "execute_result",
          "data": {
            "text/plain": [
              "'Luiz casou com Matheus! Parabéns'"
            ],
            "application/vnd.google.colaboratory.intrinsic+json": {
              "type": "string"
            }
          },
          "metadata": {},
          "execution_count": 766
        }
      ]
    },
    {
      "cell_type": "code",
      "source": [
        "p4.casar(p2)"
      ],
      "metadata": {
        "colab": {
          "base_uri": "https://localhost:8080/"
        },
        "id": "3hv3V6Kf0uhg",
        "outputId": "ea743c17-b560-4a03-e616-531295e2dc3c"
      },
      "execution_count": 767,
      "outputs": [
        {
          "output_type": "stream",
          "name": "stdout",
          "text": [
            "Luiz é casade com Matheus e Livia é casade com Marco\n"
          ]
        }
      ]
    },
    {
      "cell_type": "code",
      "source": [],
      "metadata": {
        "id": "TRAvWrsi1J_7"
      },
      "execution_count": null,
      "outputs": []
    }
  ]
}